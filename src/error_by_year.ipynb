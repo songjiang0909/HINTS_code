{
 "cells": [
  {
   "cell_type": "code",
   "execution_count": 2,
   "metadata": {},
   "outputs": [],
   "source": [
    "import numpy as np\n",
    "from sklearn.metrics import mean_absolute_error, mean_squared_error"
   ]
  },
  {
   "cell_type": "code",
   "execution_count": 3,
   "metadata": {
    "scrolled": false
   },
   "outputs": [],
   "source": [
    "pred = np.loadtxt(\"../misc/test_test.txt\")\n",
    "gt = np.loadtxt(\"../misc/test_labels.txt\")"
   ]
  },
  {
   "cell_type": "code",
   "execution_count": 5,
   "metadata": {},
   "outputs": [],
   "source": [
    "o_gt = np.exp(gt)-1\n",
    "gt[:,0:1] = o_gt[:,0:1]\n",
    "gt[:,1:2] = o_gt[:,1:2]-o_gt[:,0:1]\n",
    "gt[:,2:3] = o_gt[:,2:3]-o_gt[:,1:2]\n",
    "gt[:,3:4] = o_gt[:,3:4]-o_gt[:,2:3]\n",
    "gt[:,4:5] = o_gt[:,4:5]-o_gt[:,3:4]\n",
    "gt = np.log(gt+1)\n",
    "\n",
    "o_pred = np.exp(pred)-1\n",
    "pred[:,0:1] = o_pred[:,0:1]\n",
    "pred[:,1:2] = o_pred[:,1:2]-o_pred[:,0:1]\n",
    "pred[:,2:3] = o_pred[:,2:3]-o_pred[:,1:2]\n",
    "pred[:,3:4] = o_pred[:,3:4]-o_pred[:,2:3]\n",
    "pred[:,4:5] = o_pred[:,4:5]-o_pred[:,3:4]\n",
    "pred = np.log(pred+1)\n",
    "\n",
    "num = min(len(pred),len(gt))\n",
    "\n",
    "year1 = pred[:num,:1],gt[:num,:1]\n",
    "year2 = pred[:num,1:2],gt[:num,1:2]\n",
    "year3 = pred[:num,2:3],gt[:num,2:3]\n",
    "year4 = pred[:num,3:4],gt[:num,3:4]\n",
    "year5 = pred[:num,4:],gt[:num,4:]\n",
    "pred = pred[:num,:]\n",
    "gt = gt[:num,:]"
   ]
  },
  {
   "cell_type": "code",
   "execution_count": 6,
   "metadata": {},
   "outputs": [
    {
     "name": "stdout",
     "output_type": "stream",
     "text": [
      "1st Year MALE:0.7210693827160495  RMSLE:0.892812091575936\n",
      "2nd Year MALE:0.8461910255897499  RMSLE:1.0637592062783583\n",
      "3th Year MALE:0.905453870487533  RMSLE:1.1552212736004517\n",
      "4th Year MALE:0.9437528718982189  RMSLE:1.216409152985174\n",
      "5th Year MALE:0.9678004021136268  RMSLE:1.2588927886465133\n",
      "Overall MALE:0.8768535105610663  RMSLE:1.1249618261574394\n"
     ]
    }
   ],
   "source": [
    "print (\"1st Year MALE:{}  RMSLE:{}\".format(mean_absolute_error(year1[0],year1[1]),np.sqrt(mean_squared_error(year1[0],year1[1]))))\n",
    "print (\"2nd Year MALE:{}  RMSLE:{}\".format(mean_absolute_error(year2[0],year2[1]),np.sqrt(mean_squared_error(year2[0],year2[1]))))\n",
    "print (\"3th Year MALE:{}  RMSLE:{}\".format(mean_absolute_error(year3[0],year3[1]),np.sqrt(mean_squared_error(year3[0],year3[1]))))\n",
    "print (\"4th Year MALE:{}  RMSLE:{}\".format(mean_absolute_error(year4[0],year4[1]),np.sqrt(mean_squared_error(year4[0],year4[1]))))\n",
    "print (\"5th Year MALE:{}  RMSLE:{}\".format(mean_absolute_error(year5[0],year5[1]),np.sqrt(mean_squared_error(year5[0],year5[1]))))\n",
    "print (\"Overall MALE:{}  RMSLE:{}\".format(mean_absolute_error(pred,gt),np.sqrt(mean_squared_error(pred,gt))))"
   ]
  },
  {
   "cell_type": "code",
   "execution_count": null,
   "metadata": {},
   "outputs": [],
   "source": []
  },
  {
   "cell_type": "code",
   "execution_count": null,
   "metadata": {},
   "outputs": [],
   "source": []
  }
 ],
 "metadata": {
  "kernelspec": {
   "display_name": "Python 3",
   "language": "python",
   "name": "python3"
  },
  "language_info": {
   "codemirror_mode": {
    "name": "ipython",
    "version": 3
   },
   "file_extension": ".py",
   "mimetype": "text/x-python",
   "name": "python",
   "nbconvert_exporter": "python",
   "pygments_lexer": "ipython3",
   "version": "3.7.3"
  }
 },
 "nbformat": 4,
 "nbformat_minor": 2
}
