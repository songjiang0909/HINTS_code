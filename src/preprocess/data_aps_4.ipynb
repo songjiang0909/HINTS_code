{
 "cells": [
  {
   "cell_type": "code",
   "execution_count": 1,
   "metadata": {},
   "outputs": [],
   "source": [
    "import json\n",
    "import time\n",
    "import sys\n",
    "import pandas as pd\n",
    "import numpy  as np\n",
    "import scipy.sparse as sp\n",
    "import pickle as pkl\n",
    "import collections \n",
    "import gc"
   ]
  },
  {
   "cell_type": "code",
   "execution_count": 2,
   "metadata": {},
   "outputs": [],
   "source": [
    "with open('../aps/individual_graph_1995.pkl','rb') as f:\n",
    "    graph_1995 = pkl.load(f)\n",
    "item_id_1995 = graph_1995['item_id']\n",
    "with open('../aps/individual_graph_1996.pkl','rb') as f:\n",
    "    graph_1996 = pkl.load(f)\n",
    "item_id_1996 = graph_1996['item_id']\n",
    "with open('../aps/individual_graph_1997.pkl','rb') as f:\n",
    "    graph_1997 = pkl.load(f)\n",
    "item_id_1997 = graph_1997['item_id']\n",
    "with open('../aps/individual_graph_1998.pkl','rb') as f:\n",
    "    graph_1998 = pkl.load(f)\n",
    "item_id_1998 = graph_1998['item_id']\n",
    "with open('../aps/individual_graph_1999.pkl','rb') as f:\n",
    "    graph_1999 = pkl.load(f)\n",
    "item_id_1999 = graph_1999['item_id']\n",
    "with open('../aps/individual_graph_2000.pkl','rb') as f:\n",
    "    graph_2000 = pkl.load(f)\n",
    "item_id_2000 = graph_2000['item_id']\n",
    "with open('../aps/individual_graph_2001.pkl','rb') as f:\n",
    "    graph_2001 = pkl.load(f)\n",
    "item_id_2001 = graph_2001['item_id']\n",
    "with open('../aps/individual_graph_2002.pkl','rb') as f:\n",
    "    graph_2002 = pkl.load(f)\n",
    "item_id_2002 = graph_2002['item_id']\n",
    "with open('../aps/individual_graph_2003.pkl','rb') as f:\n",
    "    graph_2003 = pkl.load(f)\n",
    "item_id_2003 = graph_2003['item_id']\n",
    "with open('../aps/individual_graph_2004.pkl','rb') as f:\n",
    "    graph_2004 = pkl.load(f)\n",
    "item_id_2004 = graph_2004['item_id']"
   ]
  },
  {
   "cell_type": "code",
   "execution_count": 3,
   "metadata": {},
   "outputs": [],
   "source": [
    "def find_same_nodes(graph1,graph2):\n",
    "    node1 = set()\n",
    "    node2 = set()\n",
    "    for k,v in graph1.items():\n",
    "        node1.add(k)\n",
    "    for k,v in graph2.items():\n",
    "        node2.add(k)\n",
    "    union = node1 & node2\n",
    "    ind1 = [graph1[key]  for key in union]\n",
    "    ind2 = [graph2[key]  for key in union]\n",
    "    return union,ind1,ind2"
   ]
  },
  {
   "cell_type": "code",
   "execution_count": 4,
   "metadata": {},
   "outputs": [],
   "source": [
    "union,ind1,ind2 = (find_same_nodes(item_id_1995,item_id_1996))\n",
    "aligment_id_1995 = [ind1,ind2]\n",
    "\n",
    "union,ind1,ind2 = (find_same_nodes(item_id_1996,item_id_1997))\n",
    "aligment_id_1996 = [ind1,ind2]\n",
    "\n",
    "union,ind1,ind2 = (find_same_nodes(item_id_1997,item_id_1998))\n",
    "aligment_id_1997 = [ind1,ind2]\n",
    "\n",
    "union,ind1,ind2 = (find_same_nodes(item_id_1998,item_id_1999))\n",
    "aligment_id_1998 = [ind1,ind2]\n",
    "\n",
    "union,ind1,ind2 = (find_same_nodes(item_id_1999,item_id_2000))\n",
    "aligment_id_1999 = [ind1,ind2]\n",
    "\n",
    "union,ind1,ind2 = (find_same_nodes(item_id_2000,item_id_2001))\n",
    "aligment_id_2000 = [ind1,ind2]\n",
    "                    \n",
    "union,ind1,ind2 = (find_same_nodes(item_id_2001,item_id_2002))\n",
    "aligment_id_2001 = [ind1,ind2]\n",
    "                    \n",
    "union,ind1,ind2 = (find_same_nodes(item_id_2002,item_id_2003))\n",
    "aligment_id_2002 = [ind1,ind2]\n",
    "                    \n",
    "union,ind1,ind2 = (find_same_nodes(item_id_2003,item_id_2004))\n",
    "aligment_id_2003 = [ind1,ind2]      \n",
    "                    "
   ]
  },
  {
   "cell_type": "code",
   "execution_count": 5,
   "metadata": {},
   "outputs": [],
   "source": [
    "data = {'aligment_id_1995':aligment_id_1995,  \n",
    "'aligment_id_1996':aligment_id_1996,\n",
    "'aligment_id_1997':aligment_id_1997,\n",
    "'aligment_id_1998':aligment_id_1998,\n",
    "'aligment_id_1999':aligment_id_1999,\n",
    "'aligment_id_2000':aligment_id_2000,\n",
    "'aligment_id_2001':aligment_id_2001,\n",
    "'aligment_id_2002':aligment_id_2002,\n",
    "'aligment_id_2003':aligment_id_2003,}"
   ]
  },
  {
   "cell_type": "code",
   "execution_count": 6,
   "metadata": {},
   "outputs": [],
   "source": [
    "with open('../aps/alignment_nodes.pkl','wb')as f:\n",
    "    pkl.dump(data,f,0)"
   ]
  },
  {
   "cell_type": "code",
   "execution_count": null,
   "metadata": {},
   "outputs": [],
   "source": []
  }
 ],
 "metadata": {
  "kernelspec": {
   "display_name": "Python 3",
   "language": "python",
   "name": "python3"
  },
  "language_info": {
   "codemirror_mode": {
    "name": "ipython",
    "version": 3
   },
   "file_extension": ".py",
   "mimetype": "text/x-python",
   "name": "python",
   "nbconvert_exporter": "python",
   "pygments_lexer": "ipython3",
   "version": "3.7.3"
  }
 },
 "nbformat": 4,
 "nbformat_minor": 2
}
