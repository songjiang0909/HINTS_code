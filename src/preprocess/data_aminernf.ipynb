{
 "cells": [
  {
   "cell_type": "code",
   "execution_count": 1,
   "metadata": {},
   "outputs": [],
   "source": [
    "import json\n",
    "import time\n",
    "import sys\n",
    "import pandas as pd\n",
    "import numpy  as np\n",
    "import scipy.sparse as sp\n",
    "import pickle as pkl\n",
    "import collections \n",
    "import gc"
   ]
  },
  {
   "cell_type": "code",
   "execution_count": 2,
   "metadata": {},
   "outputs": [],
   "source": [
    "with open('../data/index_item_map.pkl',\"rb\") as f:\n",
    "    index_item_map = pkl.load(f)"
   ]
  },
  {
   "cell_type": "code",
   "execution_count": 3,
   "metadata": {},
   "outputs": [
    {
     "data": {
      "text/plain": [
       "dict_keys(['paper_id_title', 'author_id_name', 'venue_id_name', 'keywords_id_name', 'paper_title_id', 'author_name_id', 'venue_name_id', 'keywords_name_id', 'keywords_set', 'venue_set'])"
      ]
     },
     "execution_count": 3,
     "metadata": {},
     "output_type": "execute_result"
    }
   ],
   "source": [
    "index_item_map.keys()"
   ]
  },
  {
   "cell_type": "code",
   "execution_count": 4,
   "metadata": {},
   "outputs": [],
   "source": [
    "paper_id_set = set()\n",
    "for k,v in index_item_map[\"paper_id_title\"].items():\n",
    "    paper_id_set.add(int(k))\n",
    "    \n",
    "author_id_set = set()\n",
    "for k,v in index_item_map[\"author_id_name\"].items():\n",
    "    author_id_set.add(int(k))\n",
    "    \n",
    "venue_id_set = set()\n",
    "for k,v in index_item_map[\"venue_id_name\"].items():\n",
    "    venue_id_set.add(int(k))\n",
    "    \n",
    "keywords_id_set = set()\n",
    "for k,v in index_item_map[\"keywords_id_name\"].items():\n",
    "    keywords_id_set.add(int(k))\n"
   ]
  },
  {
   "cell_type": "code",
   "execution_count": 5,
   "metadata": {},
   "outputs": [],
   "source": [
    "with open('../data/graph_2010.pkl','rb') as f:\n",
    "    graph_2010 = pkl.load(f)"
   ]
  },
  {
   "cell_type": "code",
   "execution_count": 6,
   "metadata": {},
   "outputs": [],
   "source": [
    "new_features = []\n",
    "id_items = graph_2010[\"id_item\"]\n",
    "cnt_p = 0\n",
    "cnt_v = 0\n",
    "cnt_a = 0\n",
    "cnt_k = 0\n",
    "for k,v in id_items.items():\n",
    "    if v in keywords_id_set:\n",
    "        cnt_k = cnt_k + 1\n",
    "        new_features.append(np.random.rand(4))\n",
    "    elif v in author_id_set:\n",
    "        cnt_a = cnt_a + 1\n",
    "        new_features.append(np.random.rand(4)+1)\n",
    "    elif v in venue_id_set:\n",
    "        cnt_v = cnt_v + 1\n",
    "        new_features.append(np.random.rand(4)+2)\n",
    "    elif v in paper_id_set:\n",
    "        cnt_p = cnt_p + 1\n",
    "        new_features.append(np.random.rand(4)-1)\n",
    "#     print ((v) in keywords_id_set)\n",
    "    \n",
    "    \n",
    "#     new_features.append(np.random.rand(4))"
   ]
  },
  {
   "cell_type": "code",
   "execution_count": 7,
   "metadata": {},
   "outputs": [
    {
     "name": "stdout",
     "output_type": "stream",
     "text": [
      "length is correct\n"
     ]
    }
   ],
   "source": [
    "assert np.array(new_features).shape == (graph_2010[\"feature\"]).shape\n",
    "print (\"length is correct\")"
   ]
  },
  {
   "cell_type": "code",
   "execution_count": 8,
   "metadata": {},
   "outputs": [],
   "source": [
    "items = []\n",
    "for k,v in graph_2010[\"item_id\"].items():\n",
    "    items.append(k)\n",
    "global_feature_map = dict(zip(items,new_features))"
   ]
  },
  {
   "cell_type": "code",
   "execution_count": 9,
   "metadata": {},
   "outputs": [],
   "source": [
    "with open('../individual_data/graph_2000.pkl','rb') as f:\n",
    "    graph_2000 = pkl.load(f)\n",
    "with open('../individual_data/graph_2001.pkl','rb') as f:\n",
    "    graph_2001 = pkl.load(f)\n",
    "with open('../individual_data/graph_2002.pkl','rb') as f:\n",
    "    graph_2002 = pkl.load(f)\n",
    "with open('../individual_data/graph_2003.pkl','rb') as f:\n",
    "    graph_2003 = pkl.load(f)\n",
    "with open('../individual_data/graph_2004.pkl','rb') as f:\n",
    "    graph_2004 = pkl.load(f)\n",
    "with open('../individual_data/graph_2005.pkl','rb') as f:\n",
    "    graph_2005 = pkl.load(f)\n",
    "with open('../individual_data/graph_2006.pkl','rb') as f:\n",
    "    graph_2006 = pkl.load(f)\n",
    "with open('../individual_data/graph_2007.pkl','rb') as f:\n",
    "    graph_2007 = pkl.load(f)\n",
    "with open('../individual_data/graph_2008.pkl','rb') as f:\n",
    "    graph_2008 = pkl.load(f)\n",
    "with open('../individual_data/graph_2009.pkl','rb') as f:\n",
    "    graph_2009 = pkl.load(f)"
   ]
  },
  {
   "cell_type": "code",
   "execution_count": 10,
   "metadata": {},
   "outputs": [],
   "source": [
    "new_feature = []\n",
    "id_item = graph_2000[\"id_item\"]\n",
    "for k,v in id_item.items():\n",
    "    new_feature.append(global_feature_map[v])\n",
    "graph_2000[\"feature\"] = np.array(new_feature)\n",
    "with open('../individual_data/graph_2000_nf.pkl',\"wb\") as f:\n",
    "    pkl.dump(graph_2000,f,0)"
   ]
  },
  {
   "cell_type": "code",
   "execution_count": 11,
   "metadata": {},
   "outputs": [],
   "source": [
    "new_feature = []\n",
    "id_item = graph_2001[\"id_item\"]\n",
    "for k,v in id_item.items():\n",
    "    new_feature.append(global_feature_map[v])\n",
    "graph_2001[\"feature\"] = np.array(new_feature)\n",
    "with open('../individual_data/graph_2001_nf.pkl',\"wb\") as f:\n",
    "    pkl.dump(graph_2001,f,0)"
   ]
  },
  {
   "cell_type": "code",
   "execution_count": 12,
   "metadata": {},
   "outputs": [],
   "source": [
    "new_feature = []\n",
    "id_item = graph_2002[\"id_item\"]\n",
    "for k,v in id_item.items():\n",
    "    new_feature.append(global_feature_map[v])\n",
    "graph_2002[\"feature\"] = np.array(new_feature)\n",
    "with open('../individual_data/graph_2002_nf.pkl',\"wb\") as f:\n",
    "    pkl.dump(graph_2002,f,0)"
   ]
  },
  {
   "cell_type": "code",
   "execution_count": 13,
   "metadata": {},
   "outputs": [],
   "source": [
    "new_feature = []\n",
    "id_item = graph_2003[\"id_item\"]\n",
    "for k,v in id_item.items():\n",
    "    new_feature.append(global_feature_map[v])\n",
    "graph_2003[\"feature\"] = np.array(new_feature)\n",
    "with open('../individual_data/graph_2003_nf.pkl',\"wb\") as f:\n",
    "    pkl.dump(graph_2003,f,0)"
   ]
  },
  {
   "cell_type": "code",
   "execution_count": 14,
   "metadata": {},
   "outputs": [],
   "source": [
    "new_feature = []\n",
    "id_item = graph_2004[\"id_item\"]\n",
    "for k,v in id_item.items():\n",
    "    new_feature.append(global_feature_map[v])\n",
    "graph_2004[\"feature\"] = np.array(new_feature)\n",
    "with open('../individual_data/graph_2004_nf.pkl',\"wb\") as f:\n",
    "    pkl.dump(graph_2004,f,0)"
   ]
  },
  {
   "cell_type": "code",
   "execution_count": 15,
   "metadata": {},
   "outputs": [],
   "source": [
    "new_feature = []\n",
    "id_item = graph_2005[\"id_item\"]\n",
    "for k,v in id_item.items():\n",
    "    new_feature.append(global_feature_map[v])\n",
    "graph_2005[\"feature\"] = np.array(new_feature)\n",
    "with open('../individual_data/graph_2005_nf.pkl',\"wb\") as f:\n",
    "    pkl.dump(graph_2005,f,0)"
   ]
  },
  {
   "cell_type": "code",
   "execution_count": 16,
   "metadata": {},
   "outputs": [],
   "source": [
    "new_feature = []\n",
    "id_item = graph_2006[\"id_item\"]\n",
    "for k,v in id_item.items():\n",
    "    new_feature.append(global_feature_map[v])\n",
    "graph_2006[\"feature\"] = np.array(new_feature)\n",
    "with open('../individual_data/graph_2006_nf.pkl',\"wb\") as f:\n",
    "    pkl.dump(graph_2006,f,0)"
   ]
  },
  {
   "cell_type": "code",
   "execution_count": 17,
   "metadata": {},
   "outputs": [],
   "source": [
    "new_feature = []\n",
    "id_item = graph_2007[\"id_item\"]\n",
    "for k,v in id_item.items():\n",
    "    new_feature.append(global_feature_map[v])\n",
    "graph_2007[\"feature\"] = np.array(new_feature)\n",
    "with open('../individual_data/graph_2007_nf.pkl',\"wb\") as f:\n",
    "    pkl.dump(graph_2007,f,0)"
   ]
  },
  {
   "cell_type": "code",
   "execution_count": 18,
   "metadata": {},
   "outputs": [],
   "source": [
    "new_feature = []\n",
    "id_item = graph_2008[\"id_item\"]\n",
    "for k,v in id_item.items():\n",
    "    new_feature.append(global_feature_map[v])\n",
    "graph_2008[\"feature\"] = np.array(new_feature)\n",
    "with open('../individual_data/graph_2008_nf.pkl',\"wb\") as f:\n",
    "    pkl.dump(graph_2008,f,0)"
   ]
  },
  {
   "cell_type": "code",
   "execution_count": 19,
   "metadata": {},
   "outputs": [],
   "source": [
    "new_feature = []\n",
    "id_item = graph_2009[\"id_item\"]\n",
    "for k,v in id_item.items():\n",
    "    new_feature.append(global_feature_map[v])\n",
    "graph_2009[\"feature\"] = np.array(new_feature)\n",
    "with open('../individual_data/graph_2009_nf.pkl',\"wb\") as f:\n",
    "    pkl.dump(graph_2009,f,0)"
   ]
  },
  {
   "cell_type": "code",
   "execution_count": 20,
   "metadata": {},
   "outputs": [],
   "source": [
    "graph_2010[\"feature\"] = np.array(new_features)\n",
    "with open('../individual_data/graph_2010_nf.pkl',\"wb\") as f:\n",
    "    pkl.dump(graph_2010,f,0)"
   ]
  },
  {
   "cell_type": "code",
   "execution_count": 21,
   "metadata": {},
   "outputs": [
    {
     "data": {
      "text/plain": [
       "True"
      ]
     },
     "execution_count": 21,
     "metadata": {},
     "output_type": "execute_result"
    }
   ],
   "source": [
    "graph_2000['feature'].shape[0] ==  len(graph_2000[\"id_item\"])"
   ]
  },
  {
   "cell_type": "code",
   "execution_count": 22,
   "metadata": {},
   "outputs": [
    {
     "data": {
      "text/plain": [
       "True"
      ]
     },
     "execution_count": 22,
     "metadata": {},
     "output_type": "execute_result"
    }
   ],
   "source": [
    "graph_2001['feature'].shape[0] ==  len(graph_2001[\"id_item\"])"
   ]
  },
  {
   "cell_type": "code",
   "execution_count": 23,
   "metadata": {},
   "outputs": [
    {
     "data": {
      "text/plain": [
       "True"
      ]
     },
     "execution_count": 23,
     "metadata": {},
     "output_type": "execute_result"
    }
   ],
   "source": [
    "graph_2002['feature'].shape[0] ==  len(graph_2002[\"id_item\"])"
   ]
  },
  {
   "cell_type": "code",
   "execution_count": 24,
   "metadata": {},
   "outputs": [
    {
     "data": {
      "text/plain": [
       "True"
      ]
     },
     "execution_count": 24,
     "metadata": {},
     "output_type": "execute_result"
    }
   ],
   "source": [
    "graph_2003['feature'].shape[0] ==  len(graph_2003[\"id_item\"])"
   ]
  },
  {
   "cell_type": "code",
   "execution_count": 25,
   "metadata": {},
   "outputs": [
    {
     "data": {
      "text/plain": [
       "True"
      ]
     },
     "execution_count": 25,
     "metadata": {},
     "output_type": "execute_result"
    }
   ],
   "source": [
    "graph_2004['feature'].shape[0] ==  len(graph_2004[\"id_item\"])"
   ]
  },
  {
   "cell_type": "code",
   "execution_count": 26,
   "metadata": {},
   "outputs": [
    {
     "data": {
      "text/plain": [
       "True"
      ]
     },
     "execution_count": 26,
     "metadata": {},
     "output_type": "execute_result"
    }
   ],
   "source": [
    "graph_2005['feature'].shape[0] ==  len(graph_2005[\"id_item\"])"
   ]
  },
  {
   "cell_type": "code",
   "execution_count": 27,
   "metadata": {},
   "outputs": [
    {
     "data": {
      "text/plain": [
       "True"
      ]
     },
     "execution_count": 27,
     "metadata": {},
     "output_type": "execute_result"
    }
   ],
   "source": [
    "graph_2006['feature'].shape[0] ==  len(graph_2006[\"id_item\"])"
   ]
  },
  {
   "cell_type": "code",
   "execution_count": 28,
   "metadata": {},
   "outputs": [
    {
     "data": {
      "text/plain": [
       "True"
      ]
     },
     "execution_count": 28,
     "metadata": {},
     "output_type": "execute_result"
    }
   ],
   "source": [
    "graph_2007['feature'].shape[0] ==  len(graph_2007[\"id_item\"])"
   ]
  },
  {
   "cell_type": "code",
   "execution_count": 29,
   "metadata": {},
   "outputs": [
    {
     "data": {
      "text/plain": [
       "True"
      ]
     },
     "execution_count": 29,
     "metadata": {},
     "output_type": "execute_result"
    }
   ],
   "source": [
    "graph_2008['feature'].shape[0] ==  len(graph_2008[\"id_item\"])"
   ]
  },
  {
   "cell_type": "code",
   "execution_count": 30,
   "metadata": {},
   "outputs": [
    {
     "data": {
      "text/plain": [
       "True"
      ]
     },
     "execution_count": 30,
     "metadata": {},
     "output_type": "execute_result"
    }
   ],
   "source": [
    "graph_2009['feature'].shape[0] ==  len(graph_2009[\"id_item\"])"
   ]
  },
  {
   "cell_type": "code",
   "execution_count": 31,
   "metadata": {},
   "outputs": [
    {
     "data": {
      "text/plain": [
       "True"
      ]
     },
     "execution_count": 31,
     "metadata": {},
     "output_type": "execute_result"
    }
   ],
   "source": [
    "graph_2010['feature'].shape[0] ==  len(graph_2010[\"id_item\"])"
   ]
  },
  {
   "cell_type": "code",
   "execution_count": null,
   "metadata": {},
   "outputs": [],
   "source": []
  }
 ],
 "metadata": {
  "kernelspec": {
   "display_name": "Python 3",
   "language": "python",
   "name": "python3"
  },
  "language_info": {
   "codemirror_mode": {
    "name": "ipython",
    "version": 3
   },
   "file_extension": ".py",
   "mimetype": "text/x-python",
   "name": "python",
   "nbconvert_exporter": "python",
   "pygments_lexer": "ipython3",
   "version": "3.7.3"
  }
 },
 "nbformat": 4,
 "nbformat_minor": 2
}
