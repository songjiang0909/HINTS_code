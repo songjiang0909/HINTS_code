{
 "cells": [
  {
   "cell_type": "code",
   "execution_count": 1,
   "metadata": {},
   "outputs": [],
   "source": [
    "import json\n",
    "import time\n",
    "import sys\n",
    "import pandas as pd\n",
    "import numpy  as np\n",
    "import scipy.sparse as sp\n",
    "import pickle as pkl\n",
    "import collections \n",
    "import gc"
   ]
  },
  {
   "cell_type": "code",
   "execution_count": 2,
   "metadata": {},
   "outputs": [],
   "source": [
    "with open('../individual_data/graph_2000.pkl','rb') as f:\n",
    "    graph_2000 = pkl.load(f)['item_id']\n",
    "with open('../individual_data/graph_2001.pkl','rb') as f:\n",
    "    graph_2001 = pkl.load(f)['item_id']\n",
    "with open('../individual_data/graph_2002.pkl','rb') as f:\n",
    "    graph_2002 = pkl.load(f)['item_id']\n",
    "with open('../individual_data/graph_2003.pkl','rb') as f:\n",
    "    graph_2003 = pkl.load(f)['item_id']\n",
    "with open('../individual_data/graph_2004.pkl','rb') as f:\n",
    "    graph_2004 = pkl.load(f)['item_id']\n",
    "with open('../individual_data/graph_2005.pkl','rb') as f:\n",
    "    graph_2005 = pkl.load(f)['item_id']\n",
    "with open('../individual_data/graph_2006.pkl','rb') as f:\n",
    "    graph_2006 = pkl.load(f)['item_id']\n",
    "with open('../individual_data/graph_2007.pkl','rb') as f:\n",
    "    graph_2007 = pkl.load(f)['item_id']\n",
    "with open('../individual_data/graph_2008.pkl','rb') as f:\n",
    "    graph_2008 = pkl.load(f)['item_id']\n",
    "with open('../individual_data/graph_2009.pkl','rb') as f:\n",
    "    graph_2009 = pkl.load(f)['item_id']\n",
    "with open('../individual_data/graph_2010.pkl','rb') as f:\n",
    "    graph_2010 = pkl.load(f)['item_id']\n",
    "# with open('../data/graph_2011.pkl','rb') as f:\n",
    "#     graph_2011 = pkl.load(f)['item_id']\n",
    "# with open('../data/graph_2012.pkl','rb') as f:\n",
    "#     graph_2012 = pkl.load(f)['item_id']"
   ]
  },
  {
   "cell_type": "code",
   "execution_count": 12,
   "metadata": {},
   "outputs": [],
   "source": [
    "def find_same_nodes(graph1,graph2):\n",
    "    node1 = set()\n",
    "    node2 = set()\n",
    "    for k,v in graph1.items():\n",
    "        node1.add(k)\n",
    "    for k,v in graph2.items():\n",
    "        node2.add(k)\n",
    "    union = node1 & node2\n",
    "    ind1 = [graph1[key]  for key in union]\n",
    "    ind2 = [graph2[key]  for key in union]\n",
    "    return union,ind1,ind2"
   ]
  },
  {
   "cell_type": "code",
   "execution_count": 21,
   "metadata": {},
   "outputs": [],
   "source": [
    "union,ind1,ind2 = (find_same_nodes(graph_2000,graph_2001))\n",
    "aligment_id_2000 = [ind1,ind2]\n",
    "\n",
    "union,ind1,ind2 = (find_same_nodes(graph_2001,graph_2002))\n",
    "aligment_id_2001 = [ind1,ind2]\n",
    "\n",
    "union,ind1,ind2 = (find_same_nodes(graph_2002,graph_2003))\n",
    "aligment_id_2002=[ind1,ind2]\n",
    "\n",
    "union,ind1,ind2 = (find_same_nodes(graph_2003,graph_2004))\n",
    "aligment_id_2003=[ind1,ind2]\n",
    "\n",
    "union,ind1,ind2 = (find_same_nodes(graph_2004,graph_2005))\n",
    "aligment_id_2004=[ind1,ind2]\n",
    "\n",
    "union,ind1,ind2 = (find_same_nodes(graph_2005,graph_2006))\n",
    "aligment_id_2005=[ind1,ind2]\n",
    "\n",
    "union,ind1,ind2 = (find_same_nodes(graph_2006,graph_2007))\n",
    "aligment_id_2006=[ind1,ind2]\n",
    "\n",
    "union,ind1,ind2 = (find_same_nodes(graph_2007,graph_2008))\n",
    "aligment_id_2007=[ind1,ind2]\n",
    "\n",
    "union,ind1,ind2 = (find_same_nodes(graph_2008,graph_2009))\n",
    "aligment_id_2008=[ind1,ind2]\n",
    "\n",
    "union,ind1,ind2 = (find_same_nodes(graph_2009,graph_2010))\n",
    "aligment_id_2009=[ind1,ind2]"
   ]
  },
  {
   "cell_type": "code",
   "execution_count": null,
   "metadata": {},
   "outputs": [],
   "source": []
  },
  {
   "cell_type": "code",
   "execution_count": 22,
   "metadata": {},
   "outputs": [],
   "source": [
    "data = {'aligment_id_2000':aligment_id_2000,  \n",
    "'aligment_id_2001':aligment_id_2001,\n",
    "'aligment_id_2002':aligment_id_2002,\n",
    "'aligment_id_2003':aligment_id_2003,\n",
    "'aligment_id_2004':aligment_id_2004,\n",
    "'aligment_id_2005':aligment_id_2005,\n",
    "'aligment_id_2006':aligment_id_2006,\n",
    "'aligment_id_2007':aligment_id_2007,\n",
    "'aligment_id_2008':aligment_id_2008,\n",
    "'aligment_id_2009':aligment_id_2009}"
   ]
  },
  {
   "cell_type": "code",
   "execution_count": 23,
   "metadata": {},
   "outputs": [],
   "source": [
    "with open('../individual_data/alignment_nodes.pkl','wb')as f:\n",
    "    pkl.dump(data,f,0)"
   ]
  },
  {
   "cell_type": "code",
   "execution_count": null,
   "metadata": {},
   "outputs": [],
   "source": []
  }
 ],
 "metadata": {
  "kernelspec": {
   "display_name": "Python 3",
   "language": "python",
   "name": "python3"
  },
  "language_info": {
   "codemirror_mode": {
    "name": "ipython",
    "version": 3
   },
   "file_extension": ".py",
   "mimetype": "text/x-python",
   "name": "python",
   "nbconvert_exporter": "python",
   "pygments_lexer": "ipython3",
   "version": "3.7.3"
  }
 },
 "nbformat": 4,
 "nbformat_minor": 2
}
