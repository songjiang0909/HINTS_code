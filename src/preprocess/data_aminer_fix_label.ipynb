{
 "cells": [
  {
   "cell_type": "code",
   "execution_count": 1,
   "metadata": {},
   "outputs": [],
   "source": [
    "import pandas as pd\n",
    "import pickle as pkl\n",
    "import numpy as np"
   ]
  },
  {
   "cell_type": "code",
   "execution_count": 2,
   "metadata": {},
   "outputs": [],
   "source": [
    "with open ('../data/cumulative_labels.pkl','rb') as f:\n",
    "    cumulative_labels = pkl.load(f)"
   ]
  },
  {
   "cell_type": "code",
   "execution_count": 3,
   "metadata": {
    "scrolled": true
   },
   "outputs": [],
   "source": [
    "P2005_label = cumulative_labels['P2005_label']\n",
    "P2006_label = cumulative_labels['P2006_label']\n",
    "P2007_label = cumulative_labels['P2007_label']\n",
    "P2008_label = cumulative_labels['P2008_label']\n",
    "P2009_label = cumulative_labels['P2009_label']\n",
    "P2010_label = cumulative_labels['P2010_label']\n",
    "P2011_label = cumulative_labels['P2011_label']\n",
    "P2012_label = cumulative_labels['P2012_label']\n",
    "P2013_label = cumulative_labels['P2013_label']\n",
    "P2014_label = cumulative_labels['P2014_label']\n",
    "P2015_label = cumulative_labels['P2015_label']\n",
    "P2016_label = cumulative_labels['P2016_label']\n",
    "P2017_label = cumulative_labels['P2017_label']"
   ]
  },
  {
   "cell_type": "code",
   "execution_count": 4,
   "metadata": {},
   "outputs": [],
   "source": [
    "P2005_label.iloc[:,1:] = np.log(P2005_label.iloc[:,1:]+1)\n",
    "P2006_label.iloc[:,1:] = np.log(P2006_label.iloc[:,1:]+1)\n",
    "P2007_label.iloc[:,1:] = np.log(P2007_label.iloc[:,1:]+1)\n",
    "P2008_label.iloc[:,1:] = np.log(P2008_label.iloc[:,1:]+1)\n",
    "P2009_label.iloc[:,1:] = np.log(P2009_label.iloc[:,1:]+1)\n",
    "P2010_label.iloc[:,1:] = np.log(P2010_label.iloc[:,1:]+1)\n",
    "P2011_label.iloc[:,1:] = np.log(P2011_label.iloc[:,1:]+1)\n",
    "P2012_label.iloc[:,1:] = np.log(P2012_label.iloc[:,1:]+1)\n",
    "P2013_label.iloc[:,1:] = np.log(P2013_label.iloc[:,1:]+1)\n",
    "P2014_label.iloc[:,1:] = np.log(P2014_label.iloc[:,1:]+1)\n",
    "P2015_label.iloc[:,1:] = np.log(P2015_label.iloc[:,1:]+1)\n",
    "P2016_label.iloc[:,1:] = np.log(P2016_label.iloc[:,1:]+1)\n",
    "P2017_label.iloc[:,1:] = np.log(P2017_label.iloc[:,1:]+1)"
   ]
  },
  {
   "cell_type": "code",
   "execution_count": 22,
   "metadata": {},
   "outputs": [],
   "source": [
    "cumulative_log_labels = {'P2005_label':P2005_label,\n",
    "                   'P2006_label':P2006_label,\n",
    "                   'P2007_label':P2007_label,\n",
    "                   'P2008_label':P2008_label,\n",
    "                   'P2009_label':P2009_label,\n",
    "                   'P2010_label':P2010_label,\n",
    "                   'P2011_label':P2011_label,\n",
    "                   'P2012_label':P2012_label,\n",
    "                   'P2013_label':P2013_label,\n",
    "                   'P2014_label':P2014_label,\n",
    "                   'P2015_label':P2015_label,\n",
    "                   'P2016_label':P2016_label,\n",
    "                   'P2017_label':P2017_label\n",
    "                  }\n",
    "with open ('../data/cumulative_log_labels_new.pkl','wb') as f:\n",
    "    pkl.dump(cumulative_log_labels,f,0)"
   ]
  },
  {
   "cell_type": "code",
   "execution_count": null,
   "metadata": {},
   "outputs": [],
   "source": []
  }
 ],
 "metadata": {
  "kernelspec": {
   "display_name": "Python 3",
   "language": "python",
   "name": "python3"
  },
  "language_info": {
   "codemirror_mode": {
    "name": "ipython",
    "version": 3
   },
   "file_extension": ".py",
   "mimetype": "text/x-python",
   "name": "python",
   "nbconvert_exporter": "python",
   "pygments_lexer": "ipython3",
   "version": "3.7.3"
  }
 },
 "nbformat": 4,
 "nbformat_minor": 2
}
