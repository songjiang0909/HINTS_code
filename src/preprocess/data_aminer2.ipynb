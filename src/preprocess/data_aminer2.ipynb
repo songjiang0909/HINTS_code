{
 "cells": [
  {
   "cell_type": "code",
   "execution_count": 1,
   "metadata": {},
   "outputs": [],
   "source": [
    "import json\n",
    "import time\n",
    "import sys\n",
    "import pandas as pd\n",
    "import numpy  as np\n",
    "import scipy.sparse as sp\n",
    "import pickle as pkl\n",
    "import collections \n",
    "import gc"
   ]
  },
  {
   "cell_type": "code",
   "execution_count": 2,
   "metadata": {},
   "outputs": [],
   "source": [
    "# f = open('../data/dblp.v11/dblp_papers_v11.txt','r')\n",
    "# all_data = f.readlines()\n",
    "# len(all_data)\n",
    "# f.close()"
   ]
  },
  {
   "cell_type": "code",
   "execution_count": 3,
   "metadata": {},
   "outputs": [],
   "source": [
    "with open('../data/index_item_map.pkl', 'rb') as f:\n",
    "    data_map = pkl.load(f)"
   ]
  },
  {
   "cell_type": "code",
   "execution_count": 4,
   "metadata": {},
   "outputs": [],
   "source": [
    "paper_id_title = data_map['paper_id_title']\n",
    "author_id_name = data_map['author_id_name']\n",
    "venue_id_name = data_map['venue_id_name']\n",
    "keywords_id_name = data_map['keywords_id_name']\n",
    "paper_title_id = data_map['paper_title_id']\n",
    "author_name_id = data_map['author_name_id']\n",
    "venue_name_id = data_map['venue_name_id']\n",
    "keywords_name_id = data_map['keywords_name_id']\n",
    "keywords_set = data_map['keywords_set']\n",
    "venue_set = data_map['venue_set']"
   ]
  },
  {
   "cell_type": "code",
   "execution_count": 5,
   "metadata": {},
   "outputs": [],
   "source": [
    "full_pair = pd.read_csv('../data/whole_list.txt',names=['P','O','type'])\n",
    "all_paper_need = set(full_pair['P'])"
   ]
  },
  {
   "cell_type": "code",
   "execution_count": 7,
   "metadata": {},
   "outputs": [],
   "source": [
    "paper_ids = set(paper_id_title.keys())\n",
    "author_ids = set(author_id_name.keys())\n",
    "venue_ids = set(venue_id_name.keys())\n",
    "keywords_ids = set(keywords_id_name.keys())"
   ]
  },
  {
   "cell_type": "code",
   "execution_count": 8,
   "metadata": {},
   "outputs": [],
   "source": [
    "def feature_element(x):\n",
    "    if str(x) in paper_ids:\n",
    "        return np.array([1,0,0,0])\n",
    "    elif str(x) in author_ids:\n",
    "        return np.array([0,1,0,0])\n",
    "    elif str(x) in venue_ids:\n",
    "        return np.array([0,0,1,0])\n",
    "    elif x in keywords_ids:\n",
    "        return np.array([0,0,0,1])\n",
    "def create_feature(array):\n",
    "    return np.array( [ feature_element(num)   for num in array])"
   ]
  },
  {
   "cell_type": "code",
   "execution_count": 9,
   "metadata": {
    "scrolled": true
   },
   "outputs": [
    {
     "name": "stdout",
     "output_type": "stream",
     "text": [
      "289067\n"
     ]
    },
    {
     "data": {
      "text/plain": [
       "11.387266159057617"
      ]
     },
     "execution_count": 9,
     "metadata": {},
     "output_type": "execute_result"
    }
   ],
   "source": [
    "t = time.time()\n",
    "P1Y_2000 = full_pair[full_pair.O==2000]\n",
    "all_paper_2000 = pd.DataFrame({\"P\":list(set(P1Y_2000['P']))})\n",
    "full_pair_2000 = pd.merge(all_paper_2000,full_pair,how=\"left\")\n",
    "full_pair_2000[full_pair_2000.type!='P1Y']\n",
    "idx_2000 = np.array(list(set(pd.concat([full_pair_2000['P'],full_pair_2000['O']]))))\n",
    "id_item_2000 = {i:j for i,j in enumerate(idx_2000)}\n",
    "item_id_2000 = {j:i for i,j in enumerate(idx_2000)}\n",
    "feature_2000 = create_feature(idx_2000)\n",
    "print (idx_2000.shape[0])\n",
    "\n",
    "P1P_pair_2000 = full_pair_2000[full_pair_2000.type=='P1P']\n",
    "row = np.array([item_id_2000[item] for item in list(P1P_pair_2000['P'])])\n",
    "col = np.array([item_id_2000[item] for item in list(P1P_pair_2000['O'])])\n",
    "data = np.ones(row.shape[0])\n",
    "adj_P1P_2000 = sp.csr_matrix((data,(row,col)),shape=(idx_2000.shape[0],idx_2000.shape[0]))\n",
    "\n",
    "P1A_pair_2000 = full_pair_2000[full_pair_2000.type=='P1A']\n",
    "row = np.array([item_id_2000[item] for item in list(P1A_pair_2000['P'])])\n",
    "col = np.array([item_id_2000[item] for item in list(P1A_pair_2000['O'])])\n",
    "data = np.ones(row.shape[0])\n",
    "adj_P1A_2000 = sp.csr_matrix((data,(row,col)),shape=(idx_2000.shape[0],idx_2000.shape[0]))\n",
    "\n",
    "P1V_pair_2000 = full_pair_2000[full_pair_2000.type=='P1V']\n",
    "row = np.array([item_id_2000[item] for item in list(P1V_pair_2000['P'])])\n",
    "col = np.array([item_id_2000[item] for item in list(P1V_pair_2000['O'])])\n",
    "data = np.ones(row.shape[0])\n",
    "adj_P1V_2000 = sp.csr_matrix((data,(row,col)),shape=(idx_2000.shape[0],idx_2000.shape[0]))\n",
    "\n",
    "P1K_pair_2000 = full_pair_2000[full_pair_2000.type=='P1K']\n",
    "row = np.array([item_id_2000[item] for item in list(P1K_pair_2000['P'])])\n",
    "col = np.array([item_id_2000[item] for item in list(P1K_pair_2000['O'])])\n",
    "data = np.ones(row.shape[0])\n",
    "adj_P1K_2000 = sp.csr_matrix((data,(row,col)),shape=(idx_2000.shape[0],idx_2000.shape[0]))\n",
    "\n",
    "row = np.array(range(len(idx_2000)))\n",
    "col =  np.array(range(len(idx_2000)))\n",
    "data = np.ones(row.shape[0])\n",
    "adj_self_2000 = sp.csr_matrix((data,(row,col)),shape=(idx_2000.shape[0],idx_2000.shape[0]))\n",
    "\n",
    "graph = {'adj':[adj_P1P_2000,adj_P1A_2000,adj_P1V_2000,adj_P1K_2000,adj_self_2000],\n",
    "                 'feature':feature_2000,\n",
    "                 ' idx':idx_2000,\n",
    "                 'id_item':id_item_2000,\n",
    "                 'item_id':item_id_2000}\n",
    "# with open('../data/graph_2000.pkl','wb') as f:\n",
    "with open('../individual_data/graph_2000.pkl','wb') as f:\n",
    "    pkl.dump(graph,f,0)\n",
    "time.time()-t"
   ]
  },
  {
   "cell_type": "code",
   "execution_count": 10,
   "metadata": {},
   "outputs": [
    {
     "name": "stdout",
     "output_type": "stream",
     "text": [
      "317341\n"
     ]
    },
    {
     "data": {
      "text/plain": [
       "11.237836837768555"
      ]
     },
     "execution_count": 10,
     "metadata": {},
     "output_type": "execute_result"
    }
   ],
   "source": [
    "t = time.time()\n",
    "P1Y_2001 = full_pair[(full_pair.O==2001)]\n",
    "all_paper_2001 = pd.DataFrame({\"P\":list(set(P1Y_2001['P']))})\n",
    "full_pair_2001 = pd.merge(all_paper_2001,full_pair,how=\"left\")\n",
    "full_pair_2001[full_pair_2001.type!='P1Y']\n",
    "idx_2001 = np.array(list(set(pd.concat([full_pair_2001['P'],full_pair_2001['O']]))))\n",
    "# idx_2001 = np.array(list(set(np.concatenate([idx_2000,idx_2001]))))\n",
    "id_item_2001 = {i:j for i,j in enumerate(idx_2001)}\n",
    "item_id_2001 = {j:i for i,j in enumerate(idx_2001)}\n",
    "feature_2001 = create_feature(idx_2001)\n",
    "print (idx_2001.shape[0])\n",
    "\n",
    "P1P_pair_2001 = full_pair_2001[full_pair_2001.type=='P1P']\n",
    "row = np.array([item_id_2001[item] for item in list(P1P_pair_2001['P'])])\n",
    "col = np.array([item_id_2001[item] for item in list(P1P_pair_2001['O'])])\n",
    "data = np.ones(row.shape[0])\n",
    "adj_P1P_2001 = sp.csr_matrix((data,(row,col)),shape=(idx_2001.shape[0],idx_2001.shape[0]))\n",
    "\n",
    "P1A_pair_2001 = full_pair_2001[full_pair_2001.type=='P1A']\n",
    "row = np.array([item_id_2001[item] for item in list(P1A_pair_2001['P'])])\n",
    "col = np.array([item_id_2001[item] for item in list(P1A_pair_2001['O'])])\n",
    "data = np.ones(row.shape[0])\n",
    "adj_P1A_2001 = sp.csr_matrix((data,(row,col)),shape=(idx_2001.shape[0],idx_2001.shape[0]))\n",
    "\n",
    "P1V_pair_2001 = full_pair_2001[full_pair_2001.type=='P1V']\n",
    "row = np.array([item_id_2001[item] for item in list(P1V_pair_2001['P'])])\n",
    "col = np.array([item_id_2001[item] for item in list(P1V_pair_2001['O'])])\n",
    "data = np.ones(row.shape[0])\n",
    "adj_P1V_2001 = sp.csr_matrix((data,(row,col)),shape=(idx_2001.shape[0],idx_2001.shape[0]))\n",
    "\n",
    "P1K_pair_2001 = full_pair_2001[full_pair_2001.type=='P1K']\n",
    "row = np.array([item_id_2001[item] for item in list(P1K_pair_2001['P'])])\n",
    "col = np.array([item_id_2001[item] for item in list(P1K_pair_2001['O'])])\n",
    "data = np.ones(row.shape[0])\n",
    "adj_P1K_2001 = sp.csr_matrix((data,(row,col)),shape=(idx_2001.shape[0],idx_2001.shape[0]))\n",
    "\n",
    "row = np.array(range(len(idx_2001)))\n",
    "col =  np.array(range(len(idx_2001)))\n",
    "data = np.ones(row.shape[0])\n",
    "adj_self_2001 = sp.csr_matrix((data,(row,col)),shape=(idx_2001.shape[0],idx_2001.shape[0]))\n",
    "\n",
    "graph = {'adj':[adj_P1P_2001,adj_P1A_2001,adj_P1V_2001,adj_P1K_2001,adj_self_2001],\n",
    "                 'feature':feature_2001,\n",
    "                 ' idx':idx_2001,\n",
    "                 'id_item':id_item_2001,\n",
    "                 'item_id':item_id_2001}\n",
    "with open('../individual_data/graph_2001.pkl','wb') as f:\n",
    "    pkl.dump(graph,f,0)\n",
    "time.time()-t"
   ]
  },
  {
   "cell_type": "code",
   "execution_count": 11,
   "metadata": {},
   "outputs": [
    {
     "name": "stdout",
     "output_type": "stream",
     "text": [
      "360593\n"
     ]
    },
    {
     "data": {
      "text/plain": [
       "12.279783725738525"
      ]
     },
     "execution_count": 11,
     "metadata": {},
     "output_type": "execute_result"
    }
   ],
   "source": [
    "t = time.time()\n",
    "P1Y_2002 = full_pair[(full_pair.O==2002)]\n",
    "all_paper_2002 = pd.DataFrame({\"P\":list(set(P1Y_2002['P']))})\n",
    "full_pair_2002 = pd.merge(all_paper_2002,full_pair,how=\"left\")\n",
    "full_pair_2002[full_pair_2002.type!='P1Y']\n",
    "idx_2002 = np.array(list(set(pd.concat([full_pair_2002['P'],full_pair_2002['O']]))))\n",
    "id_item_2002 = {i:j for i,j in enumerate(idx_2002)}\n",
    "item_id_2002 = {j:i for i,j in enumerate(idx_2002)}\n",
    "feature_2002 = create_feature(idx_2002)\n",
    "print (idx_2002.shape[0])\n",
    "\n",
    "P1P_pair_2002 = full_pair_2002[full_pair_2002.type=='P1P']\n",
    "row = np.array([item_id_2002[item] for item in list(P1P_pair_2002['P'])])\n",
    "col = np.array([item_id_2002[item] for item in list(P1P_pair_2002['O'])])\n",
    "data = np.ones(row.shape[0])\n",
    "adj_P1P_2002 = sp.csr_matrix((data,(row,col)),shape=(idx_2002.shape[0],idx_2002.shape[0]))\n",
    "\n",
    "P1A_pair_2002 = full_pair_2002[full_pair_2002.type=='P1A']\n",
    "row = np.array([item_id_2002[item] for item in list(P1A_pair_2002['P'])])\n",
    "col = np.array([item_id_2002[item] for item in list(P1A_pair_2002['O'])])\n",
    "data = np.ones(row.shape[0])\n",
    "adj_P1A_2002 = sp.csr_matrix((data,(row,col)),shape=(idx_2002.shape[0],idx_2002.shape[0]))\n",
    "\n",
    "P1V_pair_2002 = full_pair_2002[full_pair_2002.type=='P1V']\n",
    "row = np.array([item_id_2002[item] for item in list(P1V_pair_2002['P'])])\n",
    "col = np.array([item_id_2002[item] for item in list(P1V_pair_2002['O'])])\n",
    "data = np.ones(row.shape[0])\n",
    "adj_P1V_2002 = sp.csr_matrix((data,(row,col)),shape=(idx_2002.shape[0],idx_2002.shape[0]))\n",
    "\n",
    "P1K_pair_2002 = full_pair_2002[full_pair_2002.type=='P1K']\n",
    "row = np.array([item_id_2002[item] for item in list(P1K_pair_2002['P'])])\n",
    "col = np.array([item_id_2002[item] for item in list(P1K_pair_2002['O'])])\n",
    "data = np.ones(row.shape[0])\n",
    "adj_P1K_2002 = sp.csr_matrix((data,(row,col)),shape=(idx_2002.shape[0],idx_2002.shape[0]))\n",
    "\n",
    "row = np.array(range(len(idx_2002)))\n",
    "col =  np.array(range(len(idx_2002)))\n",
    "data = np.ones(row.shape[0])\n",
    "adj_self_2002 = sp.csr_matrix((data,(row,col)),shape=(idx_2002.shape[0],idx_2002.shape[0]))\n",
    "\n",
    "graph = {'adj':[adj_P1P_2002,adj_P1A_2002,adj_P1V_2002,adj_P1K_2002,adj_self_2002],\n",
    "                 'feature':feature_2002,\n",
    "                 ' idx':idx_2002,\n",
    "                 'id_item':id_item_2002,\n",
    "                 'item_id':item_id_2002}\n",
    "with open('../individual_data/graph_2002.pkl','wb') as f:\n",
    "    pkl.dump(graph,f,0)\n",
    "time.time()-t"
   ]
  },
  {
   "cell_type": "code",
   "execution_count": 12,
   "metadata": {},
   "outputs": [
    {
     "name": "stdout",
     "output_type": "stream",
     "text": [
      "426255\n"
     ]
    },
    {
     "data": {
      "text/plain": [
       "13.712995529174805"
      ]
     },
     "execution_count": 12,
     "metadata": {},
     "output_type": "execute_result"
    }
   ],
   "source": [
    "t = time.time()\n",
    "P1Y_2003 = full_pair[(full_pair.O==2003)]\n",
    "all_paper_2003 = pd.DataFrame({\"P\":list(set(P1Y_2003['P']))})\n",
    "full_pair_2003 = pd.merge(all_paper_2003,full_pair,how=\"left\")\n",
    "full_pair_2003[full_pair_2003.type!='P1Y']\n",
    "idx_2003 = np.array(list(set(pd.concat([full_pair_2003['P'],full_pair_2003['O']]))))\n",
    "id_item_2003 = {i:j for i,j in enumerate(idx_2003)}\n",
    "item_id_2003 = {j:i for i,j in enumerate(idx_2003)}\n",
    "feature_2003 = create_feature(idx_2003)\n",
    "print (idx_2003.shape[0])\n",
    "\n",
    "P1P_pair_2003 = full_pair_2003[full_pair_2003.type=='P1P']\n",
    "row = np.array([item_id_2003[item] for item in list(P1P_pair_2003['P'])])\n",
    "col = np.array([item_id_2003[item] for item in list(P1P_pair_2003['O'])])\n",
    "data = np.ones(row.shape[0])\n",
    "adj_P1P_2003 = sp.csr_matrix((data,(row,col)),shape=(idx_2003.shape[0],idx_2003.shape[0]))\n",
    "\n",
    "P1A_pair_2003 = full_pair_2003[full_pair_2003.type=='P1A']\n",
    "row = np.array([item_id_2003[item] for item in list(P1A_pair_2003['P'])])\n",
    "col = np.array([item_id_2003[item] for item in list(P1A_pair_2003['O'])])\n",
    "data = np.ones(row.shape[0])\n",
    "adj_P1A_2003 = sp.csr_matrix((data,(row,col)),shape=(idx_2003.shape[0],idx_2003.shape[0]))\n",
    "\n",
    "P1V_pair_2003 = full_pair_2003[full_pair_2003.type=='P1V']\n",
    "row = np.array([item_id_2003[item] for item in list(P1V_pair_2003['P'])])\n",
    "col = np.array([item_id_2003[item] for item in list(P1V_pair_2003['O'])])\n",
    "data = np.ones(row.shape[0])\n",
    "adj_P1V_2003 = sp.csr_matrix((data,(row,col)),shape=(idx_2003.shape[0],idx_2003.shape[0]))\n",
    "\n",
    "P1K_pair_2003 = full_pair_2003[full_pair_2003.type=='P1K']\n",
    "row = np.array([item_id_2003[item] for item in list(P1K_pair_2003['P'])])\n",
    "col = np.array([item_id_2003[item] for item in list(P1K_pair_2003['O'])])\n",
    "data = np.ones(row.shape[0])\n",
    "adj_P1K_2003 = sp.csr_matrix((data,(row,col)),shape=(idx_2003.shape[0],idx_2003.shape[0]))\n",
    "\n",
    "row = np.array(range(len(idx_2003)))\n",
    "col =  np.array(range(len(idx_2003)))\n",
    "data = np.ones(row.shape[0])\n",
    "adj_self_2003 = sp.csr_matrix((data,(row,col)),shape=(idx_2003.shape[0],idx_2003.shape[0]))\n",
    "\n",
    "graph = {'adj':[adj_P1P_2003,adj_P1A_2003,adj_P1V_2003,adj_P1K_2003,adj_self_2003],\n",
    "                 'feature':feature_2003,\n",
    "                 ' idx':idx_2003,\n",
    "                 'id_item':id_item_2003,\n",
    "                 'item_id':item_id_2003}\n",
    "with open('../individual_data/graph_2003.pkl','wb') as f:\n",
    "    pkl.dump(graph,f,0)\n",
    "time.time()-t"
   ]
  },
  {
   "cell_type": "code",
   "execution_count": 13,
   "metadata": {},
   "outputs": [
    {
     "name": "stdout",
     "output_type": "stream",
     "text": [
      "509701\n"
     ]
    },
    {
     "data": {
      "text/plain": [
       "15.460953950881958"
      ]
     },
     "execution_count": 13,
     "metadata": {},
     "output_type": "execute_result"
    }
   ],
   "source": [
    "t = time.time()\n",
    "P1Y_2004 = full_pair[(full_pair.O==2004)]\n",
    "all_paper_2004 = pd.DataFrame({\"P\":list(set(P1Y_2004['P']))})\n",
    "full_pair_2004 = pd.merge(all_paper_2004,full_pair,how=\"left\")\n",
    "full_pair_2004[full_pair_2004.type!='P1Y']\n",
    "idx_2004 = np.array(list(set(pd.concat([full_pair_2004['P'],full_pair_2004['O']]))))\n",
    "id_item_2004 = {i:j for i,j in enumerate(idx_2004)}\n",
    "item_id_2004 = {j:i for i,j in enumerate(idx_2004)}\n",
    "feature_2004 = create_feature(idx_2004)\n",
    "print (idx_2004.shape[0])\n",
    "\n",
    "P1P_pair_2004 = full_pair_2004[full_pair_2004.type=='P1P']\n",
    "row = np.array([item_id_2004[item] for item in list(P1P_pair_2004['P'])])\n",
    "col = np.array([item_id_2004[item] for item in list(P1P_pair_2004['O'])])\n",
    "data = np.ones(row.shape[0])\n",
    "adj_P1P_2004 = sp.csr_matrix((data,(row,col)),shape=(idx_2004.shape[0],idx_2004.shape[0]))\n",
    "\n",
    "P1A_pair_2004 = full_pair_2004[full_pair_2004.type=='P1A']\n",
    "row = np.array([item_id_2004[item] for item in list(P1A_pair_2004['P'])])\n",
    "col = np.array([item_id_2004[item] for item in list(P1A_pair_2004['O'])])\n",
    "data = np.ones(row.shape[0])\n",
    "adj_P1A_2004 = sp.csr_matrix((data,(row,col)),shape=(idx_2004.shape[0],idx_2004.shape[0]))\n",
    "\n",
    "P1V_pair_2004 = full_pair_2004[full_pair_2004.type=='P1V']\n",
    "row = np.array([item_id_2004[item] for item in list(P1V_pair_2004['P'])])\n",
    "col = np.array([item_id_2004[item] for item in list(P1V_pair_2004['O'])])\n",
    "data = np.ones(row.shape[0])\n",
    "adj_P1V_2004 = sp.csr_matrix((data,(row,col)),shape=(idx_2004.shape[0],idx_2004.shape[0]))\n",
    "\n",
    "P1K_pair_2004 = full_pair_2004[full_pair_2004.type=='P1K']\n",
    "row = np.array([item_id_2004[item] for item in list(P1K_pair_2004['P'])])\n",
    "col = np.array([item_id_2004[item] for item in list(P1K_pair_2004['O'])])\n",
    "data = np.ones(row.shape[0])\n",
    "adj_P1K_2004 = sp.csr_matrix((data,(row,col)),shape=(idx_2004.shape[0],idx_2004.shape[0]))\n",
    "\n",
    "row = np.array(range(len(idx_2004)))\n",
    "col =  np.array(range(len(idx_2004)))\n",
    "data = np.ones(row.shape[0])\n",
    "adj_self_2004 = sp.csr_matrix((data,(row,col)),shape=(idx_2004.shape[0],idx_2004.shape[0]))\n",
    "\n",
    "graph = {'adj':[adj_P1P_2004,adj_P1A_2004,adj_P1V_2004,adj_P1K_2004,adj_self_2004],\n",
    "                 'feature':feature_2004,\n",
    "                 ' idx':idx_2004,\n",
    "                 'id_item':id_item_2004,\n",
    "                 'item_id':item_id_2004}\n",
    "with open('../individual_data/graph_2004.pkl','wb') as f:\n",
    "    pkl.dump(graph,f,0)\n",
    "time.time()-t"
   ]
  },
  {
   "cell_type": "code",
   "execution_count": 14,
   "metadata": {},
   "outputs": [
    {
     "name": "stdout",
     "output_type": "stream",
     "text": [
      "600391\n"
     ]
    },
    {
     "data": {
      "text/plain": [
       "18.118165254592896"
      ]
     },
     "execution_count": 14,
     "metadata": {},
     "output_type": "execute_result"
    }
   ],
   "source": [
    "t = time.time()\n",
    "P1Y_2005 = full_pair[(full_pair.O==2005)]\n",
    "all_paper_2005 = pd.DataFrame({\"P\":list(set(P1Y_2005['P']))})\n",
    "full_pair_2005 = pd.merge(all_paper_2005,full_pair,how=\"left\")\n",
    "full_pair_2005[full_pair_2005.type!='P1Y']\n",
    "idx_2005 = np.array(list(set(pd.concat([full_pair_2005['P'],full_pair_2005['O']]))))\n",
    "id_item_2005 = {i:j for i,j in enumerate(idx_2005)}\n",
    "item_id_2005 = {j:i for i,j in enumerate(idx_2005)}\n",
    "feature_2005 = create_feature(idx_2005)\n",
    "print (idx_2005.shape[0])\n",
    "\n",
    "P1P_pair_2005 = full_pair_2005[full_pair_2005.type=='P1P']\n",
    "row = np.array([item_id_2005[item] for item in list(P1P_pair_2005['P'])])\n",
    "col = np.array([item_id_2005[item] for item in list(P1P_pair_2005['O'])])\n",
    "data = np.ones(row.shape[0])\n",
    "adj_P1P_2005 = sp.csr_matrix((data,(row,col)),shape=(idx_2005.shape[0],idx_2005.shape[0]))\n",
    "\n",
    "P1A_pair_2005 = full_pair_2005[full_pair_2005.type=='P1A']\n",
    "row = np.array([item_id_2005[item] for item in list(P1A_pair_2005['P'])])\n",
    "col = np.array([item_id_2005[item] for item in list(P1A_pair_2005['O'])])\n",
    "data = np.ones(row.shape[0])\n",
    "adj_P1A_2005 = sp.csr_matrix((data,(row,col)),shape=(idx_2005.shape[0],idx_2005.shape[0]))\n",
    "\n",
    "P1V_pair_2005 = full_pair_2005[full_pair_2005.type=='P1V']\n",
    "row = np.array([item_id_2005[item] for item in list(P1V_pair_2005['P'])])\n",
    "col = np.array([item_id_2005[item] for item in list(P1V_pair_2005['O'])])\n",
    "data = np.ones(row.shape[0])\n",
    "adj_P1V_2005 = sp.csr_matrix((data,(row,col)),shape=(idx_2005.shape[0],idx_2005.shape[0]))\n",
    "\n",
    "P1K_pair_2005 = full_pair_2005[full_pair_2005.type=='P1K']\n",
    "row = np.array([item_id_2005[item] for item in list(P1K_pair_2005['P'])])\n",
    "col = np.array([item_id_2005[item] for item in list(P1K_pair_2005['O'])])\n",
    "data = np.ones(row.shape[0])\n",
    "adj_P1K_2005 = sp.csr_matrix((data,(row,col)),shape=(idx_2005.shape[0],idx_2005.shape[0]))\n",
    "\n",
    "row = np.array(range(len(idx_2005)))\n",
    "col =  np.array(range(len(idx_2005)))\n",
    "data = np.ones(row.shape[0])\n",
    "adj_self_2005 = sp.csr_matrix((data,(row,col)),shape=(idx_2005.shape[0],idx_2005.shape[0]))\n",
    "\n",
    "graph = {'adj':[adj_P1P_2005,adj_P1A_2005,adj_P1V_2005,adj_P1K_2005,adj_self_2005],\n",
    "                 'feature':feature_2005,\n",
    "                 ' idx':idx_2005,\n",
    "                 'id_item':id_item_2005,\n",
    "                 'item_id':item_id_2005}\n",
    "with open('../individual_data/graph_2005.pkl','wb') as f:\n",
    "    pkl.dump(graph,f,0)\n",
    "time.time()-t"
   ]
  },
  {
   "cell_type": "code",
   "execution_count": 15,
   "metadata": {},
   "outputs": [
    {
     "name": "stdout",
     "output_type": "stream",
     "text": [
      "697400\n"
     ]
    },
    {
     "data": {
      "text/plain": [
       "20.658758878707886"
      ]
     },
     "execution_count": 15,
     "metadata": {},
     "output_type": "execute_result"
    }
   ],
   "source": [
    "t = time.time()\n",
    "P1Y_2006 = full_pair[(full_pair.O==2006)]\n",
    "all_paper_2006 = pd.DataFrame({\"P\":list(set(P1Y_2006['P']))})\n",
    "full_pair_2006 = pd.merge(all_paper_2006,full_pair,how=\"left\")\n",
    "full_pair_2006[full_pair_2006.type!='P1Y']\n",
    "idx_2006 = np.array(list(set(pd.concat([full_pair_2006['P'],full_pair_2006['O']]))))\n",
    "id_item_2006 = {i:j for i,j in enumerate(idx_2006)}\n",
    "item_id_2006 = {j:i for i,j in enumerate(idx_2006)}\n",
    "feature_2006 = create_feature(idx_2006)\n",
    "print (idx_2006.shape[0])\n",
    "\n",
    "P1P_pair_2006 = full_pair_2006[full_pair_2006.type=='P1P']\n",
    "row = np.array([item_id_2006[item] for item in list(P1P_pair_2006['P'])])\n",
    "col = np.array([item_id_2006[item] for item in list(P1P_pair_2006['O'])])\n",
    "data = np.ones(row.shape[0])\n",
    "adj_P1P_2006 = sp.csr_matrix((data,(row,col)),shape=(idx_2006.shape[0],idx_2006.shape[0]))\n",
    "\n",
    "P1A_pair_2006 = full_pair_2006[full_pair_2006.type=='P1A']\n",
    "row = np.array([item_id_2006[item] for item in list(P1A_pair_2006['P'])])\n",
    "col = np.array([item_id_2006[item] for item in list(P1A_pair_2006['O'])])\n",
    "data = np.ones(row.shape[0])\n",
    "adj_P1A_2006 = sp.csr_matrix((data,(row,col)),shape=(idx_2006.shape[0],idx_2006.shape[0]))\n",
    "\n",
    "P1V_pair_2006 = full_pair_2006[full_pair_2006.type=='P1V']\n",
    "row = np.array([item_id_2006[item] for item in list(P1V_pair_2006['P'])])\n",
    "col = np.array([item_id_2006[item] for item in list(P1V_pair_2006['O'])])\n",
    "data = np.ones(row.shape[0])\n",
    "adj_P1V_2006 = sp.csr_matrix((data,(row,col)),shape=(idx_2006.shape[0],idx_2006.shape[0]))\n",
    "\n",
    "P1K_pair_2006 = full_pair_2006[full_pair_2006.type=='P1K']\n",
    "row = np.array([item_id_2006[item] for item in list(P1K_pair_2006['P'])])\n",
    "col = np.array([item_id_2006[item] for item in list(P1K_pair_2006['O'])])\n",
    "data = np.ones(row.shape[0])\n",
    "adj_P1K_2006 = sp.csr_matrix((data,(row,col)),shape=(idx_2006.shape[0],idx_2006.shape[0]))\n",
    "\n",
    "row = np.array(range(len(idx_2006)))\n",
    "col =  np.array(range(len(idx_2006)))\n",
    "data = np.ones(row.shape[0])\n",
    "adj_self_2006 = sp.csr_matrix((data,(row,col)),shape=(idx_2006.shape[0],idx_2006.shape[0]))\n",
    "\n",
    "graph = {'adj':[adj_P1P_2006,adj_P1A_2006,adj_P1V_2006,adj_P1K_2006,adj_self_2006],\n",
    "                 'feature':feature_2006,\n",
    "                 ' idx':idx_2006,\n",
    "                 'id_item':id_item_2006,\n",
    "                 'item_id':item_id_2006}\n",
    "with open('../individual_data/graph_2006.pkl','wb') as f:\n",
    "    pkl.dump(graph,f,0)\n",
    "time.time()-t"
   ]
  },
  {
   "cell_type": "code",
   "execution_count": 16,
   "metadata": {},
   "outputs": [
    {
     "name": "stdout",
     "output_type": "stream",
     "text": [
      "789677\n"
     ]
    },
    {
     "data": {
      "text/plain": [
       "21.926084995269775"
      ]
     },
     "execution_count": 16,
     "metadata": {},
     "output_type": "execute_result"
    }
   ],
   "source": [
    "t = time.time()\n",
    "P1Y_2007 = full_pair[(full_pair.O==2007)]\n",
    "all_paper_2007 = pd.DataFrame({\"P\":list(set(P1Y_2007['P']))})\n",
    "full_pair_2007 = pd.merge(all_paper_2007,full_pair,how=\"left\")\n",
    "full_pair_2007[full_pair_2007.type!='P1Y']\n",
    "idx_2007 = np.array(list(set(pd.concat([full_pair_2007['P'],full_pair_2007['O']]))))\n",
    "id_item_2007 = {i:j for i,j in enumerate(idx_2007)}\n",
    "item_id_2007 = {j:i for i,j in enumerate(idx_2007)}\n",
    "feature_2007 = create_feature(idx_2007)\n",
    "print (idx_2007.shape[0])\n",
    "\n",
    "P1P_pair_2007 = full_pair_2007[full_pair_2007.type=='P1P']\n",
    "row = np.array([item_id_2007[item] for item in list(P1P_pair_2007['P'])])\n",
    "col = np.array([item_id_2007[item] for item in list(P1P_pair_2007['O'])])\n",
    "data = np.ones(row.shape[0])\n",
    "adj_P1P_2007 = sp.csr_matrix((data,(row,col)),shape=(idx_2007.shape[0],idx_2007.shape[0]))\n",
    "\n",
    "P1A_pair_2007 = full_pair_2007[full_pair_2007.type=='P1A']\n",
    "row = np.array([item_id_2007[item] for item in list(P1A_pair_2007['P'])])\n",
    "col = np.array([item_id_2007[item] for item in list(P1A_pair_2007['O'])])\n",
    "data = np.ones(row.shape[0])\n",
    "adj_P1A_2007 = sp.csr_matrix((data,(row,col)),shape=(idx_2007.shape[0],idx_2007.shape[0]))\n",
    "\n",
    "P1V_pair_2007 = full_pair_2007[full_pair_2007.type=='P1V']\n",
    "row = np.array([item_id_2007[item] for item in list(P1V_pair_2007['P'])])\n",
    "col = np.array([item_id_2007[item] for item in list(P1V_pair_2007['O'])])\n",
    "data = np.ones(row.shape[0])\n",
    "adj_P1V_2007 = sp.csr_matrix((data,(row,col)),shape=(idx_2007.shape[0],idx_2007.shape[0]))\n",
    "\n",
    "P1K_pair_2007 = full_pair_2007[full_pair_2007.type=='P1K']\n",
    "row = np.array([item_id_2007[item] for item in list(P1K_pair_2007['P'])])\n",
    "col = np.array([item_id_2007[item] for item in list(P1K_pair_2007['O'])])\n",
    "data = np.ones(row.shape[0])\n",
    "adj_P1K_2007 = sp.csr_matrix((data,(row,col)),shape=(idx_2007.shape[0],idx_2007.shape[0]))\n",
    "\n",
    "row = np.array(range(len(idx_2007)))\n",
    "col =  np.array(range(len(idx_2007)))\n",
    "data = np.ones(row.shape[0])\n",
    "adj_self_2007 = sp.csr_matrix((data,(row,col)),shape=(idx_2007.shape[0],idx_2007.shape[0]))\n",
    "\n",
    "graph = {'adj':[adj_P1P_2007,adj_P1A_2007,adj_P1V_2007,adj_P1K_2007,adj_self_2007],\n",
    "                 'feature':feature_2007,\n",
    "                 ' idx':idx_2007,\n",
    "                 'id_item':id_item_2007,\n",
    "                 'item_id':item_id_2007}\n",
    "with open('../individual_data/graph_2007.pkl','wb') as f:\n",
    "    pkl.dump(graph,f,0)\n",
    "time.time()-t"
   ]
  },
  {
   "cell_type": "code",
   "execution_count": 17,
   "metadata": {},
   "outputs": [
    {
     "name": "stdout",
     "output_type": "stream",
     "text": [
      "867984\n"
     ]
    },
    {
     "data": {
      "text/plain": [
       "23.236916065216064"
      ]
     },
     "execution_count": 17,
     "metadata": {},
     "output_type": "execute_result"
    }
   ],
   "source": [
    "t = time.time()\n",
    "P1Y_2008 = full_pair[(full_pair.O==2008)]\n",
    "all_paper_2008 = pd.DataFrame({\"P\":list(set(P1Y_2008['P']))})\n",
    "full_pair_2008 = pd.merge(all_paper_2008,full_pair,how=\"left\")\n",
    "full_pair_2008[full_pair_2008.type!='P1Y']\n",
    "idx_2008 = np.array(list(set(pd.concat([full_pair_2008['P'],full_pair_2008['O']]))))\n",
    "id_item_2008 = {i:j for i,j in enumerate(idx_2008)}\n",
    "item_id_2008 = {j:i for i,j in enumerate(idx_2008)}\n",
    "feature_2008 = create_feature(idx_2008)\n",
    "print (idx_2008.shape[0])\n",
    "\n",
    "P1P_pair_2008 = full_pair_2008[full_pair_2008.type=='P1P']\n",
    "row = np.array([item_id_2008[item] for item in list(P1P_pair_2008['P'])])\n",
    "col = np.array([item_id_2008[item] for item in list(P1P_pair_2008['O'])])\n",
    "data = np.ones(row.shape[0])\n",
    "adj_P1P_2008 = sp.csr_matrix((data,(row,col)),shape=(idx_2008.shape[0],idx_2008.shape[0]))\n",
    "\n",
    "P1A_pair_2008 = full_pair_2008[full_pair_2008.type=='P1A']\n",
    "row = np.array([item_id_2008[item] for item in list(P1A_pair_2008['P'])])\n",
    "col = np.array([item_id_2008[item] for item in list(P1A_pair_2008['O'])])\n",
    "data = np.ones(row.shape[0])\n",
    "adj_P1A_2008 = sp.csr_matrix((data,(row,col)),shape=(idx_2008.shape[0],idx_2008.shape[0]))\n",
    "\n",
    "P1V_pair_2008 = full_pair_2008[full_pair_2008.type=='P1V']\n",
    "row = np.array([item_id_2008[item] for item in list(P1V_pair_2008['P'])])\n",
    "col = np.array([item_id_2008[item] for item in list(P1V_pair_2008['O'])])\n",
    "data = np.ones(row.shape[0])\n",
    "adj_P1V_2008 = sp.csr_matrix((data,(row,col)),shape=(idx_2008.shape[0],idx_2008.shape[0]))\n",
    "\n",
    "P1K_pair_2008 = full_pair_2008[full_pair_2008.type=='P1K']\n",
    "row = np.array([item_id_2008[item] for item in list(P1K_pair_2008['P'])])\n",
    "col = np.array([item_id_2008[item] for item in list(P1K_pair_2008['O'])])\n",
    "data = np.ones(row.shape[0])\n",
    "adj_P1K_2008 = sp.csr_matrix((data,(row,col)),shape=(idx_2008.shape[0],idx_2008.shape[0]))\n",
    "\n",
    "row = np.array(range(len(idx_2008)))\n",
    "col =  np.array(range(len(idx_2008)))\n",
    "data = np.ones(row.shape[0])\n",
    "adj_self_2008 = sp.csr_matrix((data,(row,col)),shape=(idx_2008.shape[0],idx_2008.shape[0]))\n",
    "\n",
    "graph = {'adj':[adj_P1P_2008,adj_P1A_2008,adj_P1V_2008,adj_P1K_2008,adj_self_2008],\n",
    "                 'feature':feature_2008,\n",
    "                 ' idx':idx_2008,\n",
    "                 'id_item':id_item_2008,\n",
    "                 'item_id':item_id_2008}\n",
    "with open('../individual_data/graph_2008.pkl','wb') as f:\n",
    "    pkl.dump(graph,f,0)\n",
    "time.time()-t"
   ]
  },
  {
   "cell_type": "code",
   "execution_count": 18,
   "metadata": {},
   "outputs": [
    {
     "name": "stdout",
     "output_type": "stream",
     "text": [
      "977953\n"
     ]
    },
    {
     "data": {
      "text/plain": [
       "25.986393690109253"
      ]
     },
     "execution_count": 18,
     "metadata": {},
     "output_type": "execute_result"
    }
   ],
   "source": [
    "t = time.time()\n",
    "P1Y_2009 = full_pair[(full_pair.O==2009)]\n",
    "all_paper_2009 = pd.DataFrame({\"P\":list(set(P1Y_2009['P']))})\n",
    "full_pair_2009 = pd.merge(all_paper_2009,full_pair,how=\"left\")\n",
    "full_pair_2009[full_pair_2009.type!='P1Y']\n",
    "idx_2009 = np.array(list(set(pd.concat([full_pair_2009['P'],full_pair_2009['O']]))))\n",
    "id_item_2009 = {i:j for i,j in enumerate(idx_2009)}\n",
    "item_id_2009 = {j:i for i,j in enumerate(idx_2009)}\n",
    "feature_2009 = create_feature(idx_2009)\n",
    "print (idx_2009.shape[0])\n",
    "\n",
    "P1P_pair_2009 = full_pair_2009[full_pair_2009.type=='P1P']\n",
    "row = np.array([item_id_2009[item] for item in list(P1P_pair_2009['P'])])\n",
    "col = np.array([item_id_2009[item] for item in list(P1P_pair_2009['O'])])\n",
    "data = np.ones(row.shape[0])\n",
    "adj_P1P_2009 = sp.csr_matrix((data,(row,col)),shape=(idx_2009.shape[0],idx_2009.shape[0]))\n",
    "\n",
    "P1A_pair_2009 = full_pair_2009[full_pair_2009.type=='P1A']\n",
    "row = np.array([item_id_2009[item] for item in list(P1A_pair_2009['P'])])\n",
    "col = np.array([item_id_2009[item] for item in list(P1A_pair_2009['O'])])\n",
    "data = np.ones(row.shape[0])\n",
    "adj_P1A_2009 = sp.csr_matrix((data,(row,col)),shape=(idx_2009.shape[0],idx_2009.shape[0]))\n",
    "\n",
    "P1V_pair_2009 = full_pair_2009[full_pair_2009.type=='P1V']\n",
    "row = np.array([item_id_2009[item] for item in list(P1V_pair_2009['P'])])\n",
    "col = np.array([item_id_2009[item] for item in list(P1V_pair_2009['O'])])\n",
    "data = np.ones(row.shape[0])\n",
    "adj_P1V_2009 = sp.csr_matrix((data,(row,col)),shape=(idx_2009.shape[0],idx_2009.shape[0]))\n",
    "\n",
    "P1K_pair_2009 = full_pair_2009[full_pair_2009.type=='P1K']\n",
    "row = np.array([item_id_2009[item] for item in list(P1K_pair_2009['P'])])\n",
    "col = np.array([item_id_2009[item] for item in list(P1K_pair_2009['O'])])\n",
    "data = np.ones(row.shape[0])\n",
    "adj_P1K_2009 = sp.csr_matrix((data,(row,col)),shape=(idx_2009.shape[0],idx_2009.shape[0]))\n",
    "\n",
    "row = np.array(range(len(idx_2009)))\n",
    "col =  np.array(range(len(idx_2009)))\n",
    "data = np.ones(row.shape[0])\n",
    "adj_self_2009 = sp.csr_matrix((data,(row,col)),shape=(idx_2009.shape[0],idx_2009.shape[0]))\n",
    "\n",
    "graph = {'adj':[adj_P1P_2009,adj_P1A_2009,adj_P1V_2009,adj_P1K_2009,adj_self_2009],\n",
    "                 'feature':feature_2009,\n",
    "                 ' idx':idx_2009,\n",
    "                 'id_item':id_item_2009,\n",
    "                 'item_id':item_id_2009}\n",
    "with open('../individual_data/graph_2009.pkl','wb') as f:\n",
    "    pkl.dump(graph,f,0)\n",
    "time.time()-t"
   ]
  },
  {
   "cell_type": "code",
   "execution_count": 19,
   "metadata": {},
   "outputs": [
    {
     "name": "stdout",
     "output_type": "stream",
     "text": [
      "1051671\n"
     ]
    },
    {
     "data": {
      "text/plain": [
       "27.820387840270996"
      ]
     },
     "execution_count": 19,
     "metadata": {},
     "output_type": "execute_result"
    }
   ],
   "source": [
    "t = time.time()\n",
    "P1Y_2010 = full_pair[(full_pair.O==2010)]\n",
    "all_paper_2010 = pd.DataFrame({\"P\":list(set(P1Y_2010['P']))})\n",
    "full_pair_2010 = pd.merge(all_paper_2010,full_pair,how=\"left\")\n",
    "full_pair_2010[full_pair_2010.type!='P1Y']\n",
    "idx_2010 = np.array(list(set(pd.concat([full_pair_2010['P'],full_pair_2010['O']]))))\n",
    "id_item_2010 = {i:j for i,j in enumerate(idx_2010)}\n",
    "item_id_2010 = {j:i for i,j in enumerate(idx_2010)}\n",
    "feature_2010 = create_feature(idx_2010)\n",
    "print (idx_2010.shape[0])\n",
    "\n",
    "P1P_pair_2010 = full_pair_2010[full_pair_2010.type=='P1P']\n",
    "row = np.array([item_id_2010[item] for item in list(P1P_pair_2010['P'])])\n",
    "col = np.array([item_id_2010[item] for item in list(P1P_pair_2010['O'])])\n",
    "data = np.ones(row.shape[0])\n",
    "adj_P1P_2010 = sp.csr_matrix((data,(row,col)),shape=(idx_2010.shape[0],idx_2010.shape[0]))\n",
    "\n",
    "P1A_pair_2010 = full_pair_2010[full_pair_2010.type=='P1A']\n",
    "row = np.array([item_id_2010[item] for item in list(P1A_pair_2010['P'])])\n",
    "col = np.array([item_id_2010[item] for item in list(P1A_pair_2010['O'])])\n",
    "data = np.ones(row.shape[0])\n",
    "adj_P1A_2010 = sp.csr_matrix((data,(row,col)),shape=(idx_2010.shape[0],idx_2010.shape[0]))\n",
    "\n",
    "P1V_pair_2010 = full_pair_2010[full_pair_2010.type=='P1V']\n",
    "row = np.array([item_id_2010[item] for item in list(P1V_pair_2010['P'])])\n",
    "col = np.array([item_id_2010[item] for item in list(P1V_pair_2010['O'])])\n",
    "data = np.ones(row.shape[0])\n",
    "adj_P1V_2010 = sp.csr_matrix((data,(row,col)),shape=(idx_2010.shape[0],idx_2010.shape[0]))\n",
    "\n",
    "P1K_pair_2010 = full_pair_2010[full_pair_2010.type=='P1K']\n",
    "row = np.array([item_id_2010[item] for item in list(P1K_pair_2010['P'])])\n",
    "col = np.array([item_id_2010[item] for item in list(P1K_pair_2010['O'])])\n",
    "data = np.ones(row.shape[0])\n",
    "adj_P1K_2010 = sp.csr_matrix((data,(row,col)),shape=(idx_2010.shape[0],idx_2010.shape[0]))\n",
    "\n",
    "row = np.array(range(len(idx_2010)))\n",
    "col =  np.array(range(len(idx_2010)))\n",
    "data = np.ones(row.shape[0])\n",
    "adj_self_2010 = sp.csr_matrix((data,(row,col)),shape=(idx_2010.shape[0],idx_2010.shape[0]))\n",
    "\n",
    "graph = {'adj':[adj_P1P_2010,adj_P1A_2010,adj_P1V_2010,adj_P1K_2010,adj_self_2010],\n",
    "                 'feature':feature_2010,\n",
    "                 ' idx':idx_2010,\n",
    "                 'id_item':id_item_2010,\n",
    "                 'item_id':item_id_2010}\n",
    "with open('../individual_data/graph_2010.pkl','wb') as f:\n",
    "    pkl.dump(graph,f,0)\n",
    "time.time()-t"
   ]
  },
  {
   "cell_type": "code",
   "execution_count": 9,
   "metadata": {},
   "outputs": [
    {
     "name": "stdout",
     "output_type": "stream",
     "text": [
      "3048558\n"
     ]
    },
    {
     "data": {
      "text/plain": [
       "104.60284352302551"
      ]
     },
     "execution_count": 9,
     "metadata": {},
     "output_type": "execute_result"
    }
   ],
   "source": [
    "t = time.time()\n",
    "P1Y_2011 = full_pair[(full_pair.O>=2000)&(full_pair.O<=2011)]\n",
    "all_paper_2011 = pd.DataFrame({\"P\":list(set(P1Y_2011['P']))})\n",
    "full_pair_2011 = pd.merge(all_paper_2011,full_pair,how=\"left\")\n",
    "full_pair_2011[full_pair_2011.type!='P1Y']\n",
    "idx_2011 = np.array(list(set(pd.concat([full_pair_2011['P'],full_pair_2011['O']]))))\n",
    "id_item_2011 = {i:j for i,j in enumerate(idx_2011)}\n",
    "item_id_2011 = {j:i for i,j in enumerate(idx_2011)}\n",
    "feature_2011 = create_feature(idx_2011)\n",
    "print (idx_2011.shape[0])\n",
    "\n",
    "P1P_pair_2011 = full_pair_2011[full_pair_2011.type=='P1P']\n",
    "row = np.array([item_id_2011[item] for item in list(P1P_pair_2011['P'])])\n",
    "col = np.array([item_id_2011[item] for item in list(P1P_pair_2011['O'])])\n",
    "data = np.ones(row.shape[0])\n",
    "adj_P1P_2011 = sp.csr_matrix((data,(row,col)),shape=(idx_2011.shape[0],idx_2011.shape[0]))\n",
    "\n",
    "P1A_pair_2011 = full_pair_2011[full_pair_2011.type=='P1A']\n",
    "row = np.array([item_id_2011[item] for item in list(P1A_pair_2011['P'])])\n",
    "col = np.array([item_id_2011[item] for item in list(P1A_pair_2011['O'])])\n",
    "data = np.ones(row.shape[0])\n",
    "adj_P1A_2011 = sp.csr_matrix((data,(row,col)),shape=(idx_2011.shape[0],idx_2011.shape[0]))\n",
    "\n",
    "P1V_pair_2011 = full_pair_2011[full_pair_2011.type=='P1V']\n",
    "row = np.array([item_id_2011[item] for item in list(P1V_pair_2011['P'])])\n",
    "col = np.array([item_id_2011[item] for item in list(P1V_pair_2011['O'])])\n",
    "data = np.ones(row.shape[0])\n",
    "adj_P1V_2011 = sp.csr_matrix((data,(row,col)),shape=(idx_2011.shape[0],idx_2011.shape[0]))\n",
    "\n",
    "P1K_pair_2011 = full_pair_2011[full_pair_2011.type=='P1K']\n",
    "row = np.array([item_id_2011[item] for item in list(P1K_pair_2011['P'])])\n",
    "col = np.array([item_id_2011[item] for item in list(P1K_pair_2011['O'])])\n",
    "data = np.ones(row.shape[0])\n",
    "adj_P1K_2011 = sp.csr_matrix((data,(row,col)),shape=(idx_2011.shape[0],idx_2011.shape[0]))\n",
    "\n",
    "row = np.array(range(len(idx_2011)))\n",
    "col =  np.array(range(len(idx_2011)))\n",
    "data = np.ones(row.shape[0])\n",
    "adj_self_2011 = sp.csr_matrix((data,(row,col)),shape=(idx_2011.shape[0],idx_2011.shape[0]))\n",
    "\n",
    "graph = {'adj':[adj_P1P_2011,adj_P1A_2011,adj_P1V_2011,adj_P1K_2011,adj_self_2011],\n",
    "                 'feature':feature_2011,\n",
    "                 ' idx':idx_2011,\n",
    "                 'id_item':id_item_2011,\n",
    "                 'item_id':item_id_2011}\n",
    "with open('../data/graph_2011.pkl','wb') as f:\n",
    "    pkl.dump(graph,f,0)\n",
    "time.time()-t"
   ]
  },
  {
   "cell_type": "code",
   "execution_count": 10,
   "metadata": {},
   "outputs": [
    {
     "name": "stdout",
     "output_type": "stream",
     "text": [
      "3427976\n"
     ]
    },
    {
     "data": {
      "text/plain": [
       "121.62500238418579"
      ]
     },
     "execution_count": 10,
     "metadata": {},
     "output_type": "execute_result"
    }
   ],
   "source": [
    "t = time.time()\n",
    "P1Y_2012 = full_pair[(full_pair.O>=2000)&(full_pair.O<=2012)]\n",
    "all_paper_2012 = pd.DataFrame({\"P\":list(set(P1Y_2012['P']))})\n",
    "full_pair_2012 = pd.merge(all_paper_2012,full_pair,how=\"left\")\n",
    "full_pair_2012[full_pair_2012.type!='P1Y']\n",
    "idx_2012 = np.array(list(set(pd.concat([full_pair_2012['P'],full_pair_2012['O']]))))\n",
    "id_item_2012 = {i:j for i,j in enumerate(idx_2012)}\n",
    "item_id_2012 = {j:i for i,j in enumerate(idx_2012)}\n",
    "feature_2012 = create_feature(idx_2012)\n",
    "print (idx_2012.shape[0])\n",
    "\n",
    "P1P_pair_2012 = full_pair_2012[full_pair_2012.type=='P1P']\n",
    "row = np.array([item_id_2012[item] for item in list(P1P_pair_2012['P'])])\n",
    "col = np.array([item_id_2012[item] for item in list(P1P_pair_2012['O'])])\n",
    "data = np.ones(row.shape[0])\n",
    "adj_P1P_2012 = sp.csr_matrix((data,(row,col)),shape=(idx_2012.shape[0],idx_2012.shape[0]))\n",
    "\n",
    "P1A_pair_2012 = full_pair_2012[full_pair_2012.type=='P1A']\n",
    "row = np.array([item_id_2012[item] for item in list(P1A_pair_2012['P'])])\n",
    "col = np.array([item_id_2012[item] for item in list(P1A_pair_2012['O'])])\n",
    "data = np.ones(row.shape[0])\n",
    "adj_P1A_2012 = sp.csr_matrix((data,(row,col)),shape=(idx_2012.shape[0],idx_2012.shape[0]))\n",
    "\n",
    "P1V_pair_2012 = full_pair_2012[full_pair_2012.type=='P1V']\n",
    "row = np.array([item_id_2012[item] for item in list(P1V_pair_2012['P'])])\n",
    "col = np.array([item_id_2012[item] for item in list(P1V_pair_2012['O'])])\n",
    "data = np.ones(row.shape[0])\n",
    "adj_P1V_2012 = sp.csr_matrix((data,(row,col)),shape=(idx_2012.shape[0],idx_2012.shape[0]))\n",
    "\n",
    "P1K_pair_2012 = full_pair_2012[full_pair_2012.type=='P1K']\n",
    "row = np.array([item_id_2012[item] for item in list(P1K_pair_2012['P'])])\n",
    "col = np.array([item_id_2012[item] for item in list(P1K_pair_2012['O'])])\n",
    "data = np.ones(row.shape[0])\n",
    "adj_P1K_2012 = sp.csr_matrix((data,(row,col)),shape=(idx_2012.shape[0],idx_2012.shape[0]))\n",
    "\n",
    "row = np.array(range(len(idx_2012)))\n",
    "col =  np.array(range(len(idx_2012)))\n",
    "data = np.ones(row.shape[0])\n",
    "adj_self_2012 = sp.csr_matrix((data,(row,col)),shape=(idx_2012.shape[0],idx_2012.shape[0]))\n",
    "\n",
    "graph = {'adj':[adj_P1P_2012,adj_P1A_2012,adj_P1V_2012,adj_P1K_2012,adj_self_2012],\n",
    "                 'feature':feature_2012,\n",
    "                 ' idx':idx_2012,\n",
    "                 'id_item':id_item_2012,\n",
    "                 'item_id':item_id_2012}\n",
    "with open('../data/graph_2012.pkl','wb') as f:\n",
    "    pkl.dump(graph,f,0)\n",
    "time.time()-t"
   ]
  },
  {
   "cell_type": "code",
   "execution_count": 11,
   "metadata": {},
   "outputs": [
    {
     "name": "stdout",
     "output_type": "stream",
     "text": [
      "3826575\n"
     ]
    },
    {
     "data": {
      "text/plain": [
       "136.56867623329163"
      ]
     },
     "execution_count": 11,
     "metadata": {},
     "output_type": "execute_result"
    }
   ],
   "source": [
    "t = time.time()\n",
    "P1Y_2013 = full_pair[(full_pair.O>=2000)&(full_pair.O<=2013)]\n",
    "all_paper_2013 = pd.DataFrame({\"P\":list(set(P1Y_2013['P']))})\n",
    "full_pair_2013 = pd.merge(all_paper_2013,full_pair,how=\"left\")\n",
    "full_pair_2013[full_pair_2013.type!='P1Y']\n",
    "idx_2013 = np.array(list(set(pd.concat([full_pair_2013['P'],full_pair_2013['O']]))))\n",
    "id_item_2013 = {i:j for i,j in enumerate(idx_2013)}\n",
    "item_id_2013 = {j:i for i,j in enumerate(idx_2013)}\n",
    "feature_2013 = create_feature(idx_2013)\n",
    "print (idx_2013.shape[0])\n",
    "\n",
    "P1P_pair_2013 = full_pair_2013[full_pair_2013.type=='P1P']\n",
    "row = np.array([item_id_2013[item] for item in list(P1P_pair_2013['P'])])\n",
    "col = np.array([item_id_2013[item] for item in list(P1P_pair_2013['O'])])\n",
    "data = np.ones(row.shape[0])\n",
    "adj_P1P_2013 = sp.csr_matrix((data,(row,col)),shape=(idx_2013.shape[0],idx_2013.shape[0]))\n",
    "\n",
    "P1A_pair_2013 = full_pair_2013[full_pair_2013.type=='P1A']\n",
    "row = np.array([item_id_2013[item] for item in list(P1A_pair_2013['P'])])\n",
    "col = np.array([item_id_2013[item] for item in list(P1A_pair_2013['O'])])\n",
    "data = np.ones(row.shape[0])\n",
    "adj_P1A_2013 = sp.csr_matrix((data,(row,col)),shape=(idx_2013.shape[0],idx_2013.shape[0]))\n",
    "\n",
    "P1V_pair_2013 = full_pair_2013[full_pair_2013.type=='P1V']\n",
    "row = np.array([item_id_2013[item] for item in list(P1V_pair_2013['P'])])\n",
    "col = np.array([item_id_2013[item] for item in list(P1V_pair_2013['O'])])\n",
    "data = np.ones(row.shape[0])\n",
    "adj_P1V_2013 = sp.csr_matrix((data,(row,col)),shape=(idx_2013.shape[0],idx_2013.shape[0]))\n",
    "\n",
    "P1K_pair_2013 = full_pair_2013[full_pair_2013.type=='P1K']\n",
    "row = np.array([item_id_2013[item] for item in list(P1K_pair_2013['P'])])\n",
    "col = np.array([item_id_2013[item] for item in list(P1K_pair_2013['O'])])\n",
    "data = np.ones(row.shape[0])\n",
    "adj_P1K_2013 = sp.csr_matrix((data,(row,col)),shape=(idx_2013.shape[0],idx_2013.shape[0]))\n",
    "\n",
    "row = np.array(range(len(idx_2013)))\n",
    "col =  np.array(range(len(idx_2013)))\n",
    "data = np.ones(row.shape[0])\n",
    "adj_self_2013 = sp.csr_matrix((data,(row,col)),shape=(idx_2013.shape[0],idx_2013.shape[0]))\n",
    "\n",
    "graph = {'adj':[adj_P1P_2013,adj_P1A_2013,adj_P1V_2013,adj_P1K_2013,adj_self_2013],\n",
    "                 'feature':feature_2013,\n",
    "                 ' idx':idx_2013,\n",
    "                 'id_item':id_item_2013,\n",
    "                 'item_id':item_id_2013}\n",
    "with open('../data/graph_2013.pkl','wb') as f:\n",
    "    pkl.dump(graph,f,0)\n",
    "time.time()-t"
   ]
  },
  {
   "cell_type": "code",
   "execution_count": 8,
   "metadata": {},
   "outputs": [
    {
     "name": "stdout",
     "output_type": "stream",
     "text": [
      "4246775\n"
     ]
    },
    {
     "data": {
      "text/plain": [
       "151.71093559265137"
      ]
     },
     "execution_count": 8,
     "metadata": {},
     "output_type": "execute_result"
    }
   ],
   "source": [
    "t = time.time()\n",
    "P1Y_2014 = full_pair[(full_pair.O>=2000)&(full_pair.O<=2014)]\n",
    "all_paper_2014 = pd.DataFrame({\"P\":list(set(P1Y_2014['P']))})\n",
    "full_pair_2014 = pd.merge(all_paper_2014,full_pair,how=\"left\")\n",
    "full_pair_2014[full_pair_2014.type!='P1Y']\n",
    "idx_2014 = np.array(list(set(pd.concat([full_pair_2014['P'],full_pair_2014['O']]))))\n",
    "id_item_2014 = {i:j for i,j in enumerate(idx_2014)}\n",
    "item_id_2014 = {j:i for i,j in enumerate(idx_2014)}\n",
    "feature_2014 = create_feature(idx_2014)\n",
    "print (idx_2014.shape[0])\n",
    "\n",
    "P1P_pair_2014 = full_pair_2014[full_pair_2014.type=='P1P']\n",
    "row = np.array([item_id_2014[item] for item in list(P1P_pair_2014['P'])])\n",
    "col = np.array([item_id_2014[item] for item in list(P1P_pair_2014['O'])])\n",
    "data = np.ones(row.shape[0])\n",
    "adj_P1P_2014 = sp.csr_matrix((data,(row,col)),shape=(idx_2014.shape[0],idx_2014.shape[0]))\n",
    "\n",
    "P1A_pair_2014 = full_pair_2014[full_pair_2014.type=='P1A']\n",
    "row = np.array([item_id_2014[item] for item in list(P1A_pair_2014['P'])])\n",
    "col = np.array([item_id_2014[item] for item in list(P1A_pair_2014['O'])])\n",
    "data = np.ones(row.shape[0])\n",
    "adj_P1A_2014 = sp.csr_matrix((data,(row,col)),shape=(idx_2014.shape[0],idx_2014.shape[0]))\n",
    "\n",
    "P1V_pair_2014 = full_pair_2014[full_pair_2014.type=='P1V']\n",
    "row = np.array([item_id_2014[item] for item in list(P1V_pair_2014['P'])])\n",
    "col = np.array([item_id_2014[item] for item in list(P1V_pair_2014['O'])])\n",
    "data = np.ones(row.shape[0])\n",
    "adj_P1V_2014 = sp.csr_matrix((data,(row,col)),shape=(idx_2014.shape[0],idx_2014.shape[0]))\n",
    "\n",
    "P1K_pair_2014 = full_pair_2014[full_pair_2014.type=='P1K']\n",
    "row = np.array([item_id_2014[item] for item in list(P1K_pair_2014['P'])])\n",
    "col = np.array([item_id_2014[item] for item in list(P1K_pair_2014['O'])])\n",
    "data = np.ones(row.shape[0])\n",
    "adj_P1K_2014 = sp.csr_matrix((data,(row,col)),shape=(idx_2014.shape[0],idx_2014.shape[0]))\n",
    "\n",
    "row = np.array(range(len(idx_2014)))\n",
    "col =  np.array(range(len(idx_2014)))\n",
    "data = np.ones(row.shape[0])\n",
    "adj_self_2014 = sp.csr_matrix((data,(row,col)),shape=(idx_2014.shape[0],idx_2014.shape[0]))\n",
    "\n",
    "graph = {'adj':[adj_P1P_2014,adj_P1A_2014,adj_P1V_2014,adj_P1K_2014,adj_self_2014],\n",
    "                 'feature':feature_2014,\n",
    "                 ' idx':idx_2014,\n",
    "                 'id_item':id_item_2014,\n",
    "                 'item_id':item_id_2014}\n",
    "with open('../data/graph_2014.pkl','wb') as f:\n",
    "    pkl.dump(graph,f,0)\n",
    "time.time()-t"
   ]
  },
  {
   "cell_type": "code",
   "execution_count": 17,
   "metadata": {},
   "outputs": [
    {
     "name": "stdout",
     "output_type": "stream",
     "text": [
      "4672216\n"
     ]
    },
    {
     "data": {
      "text/plain": [
       "174.286474943161"
      ]
     },
     "execution_count": 17,
     "metadata": {},
     "output_type": "execute_result"
    }
   ],
   "source": [
    "t = time.time()\n",
    "P1Y_2015 = full_pair[(full_pair.O>=2000)&(full_pair.O<=2015)]\n",
    "all_paper_2015 = pd.DataFrame({\"P\":list(set(P1Y_2015['P']))})\n",
    "full_pair_2015 = pd.merge(all_paper_2015,full_pair,how=\"left\")\n",
    "full_pair_2015[full_pair_2015.type!='P1Y']\n",
    "idx_2015 = np.array(list(set(pd.concat([full_pair_2015['P'],full_pair_2015['O']]))))\n",
    "id_item_2015 = {i:j for i,j in enumerate(idx_2015)}\n",
    "item_id_2015 = {j:i for i,j in enumerate(idx_2015)}\n",
    "feature_2015 = create_feature(idx_2015)\n",
    "print (idx_2015.shape[0])\n",
    "\n",
    "P1P_pair_2015 = full_pair_2015[full_pair_2015.type=='P1P']\n",
    "row = np.array([item_id_2015[item] for item in list(P1P_pair_2015['P'])])\n",
    "col = np.array([item_id_2015[item] for item in list(P1P_pair_2015['O'])])\n",
    "data = np.ones(row.shape[0])\n",
    "adj_P1P_2015 = sp.csr_matrix((data,(row,col)),shape=(idx_2015.shape[0],idx_2015.shape[0]))\n",
    "\n",
    "P1A_pair_2015 = full_pair_2015[full_pair_2015.type=='P1A']\n",
    "row = np.array([item_id_2015[item] for item in list(P1A_pair_2015['P'])])\n",
    "col = np.array([item_id_2015[item] for item in list(P1A_pair_2015['O'])])\n",
    "data = np.ones(row.shape[0])\n",
    "adj_P1A_2015 = sp.csr_matrix((data,(row,col)),shape=(idx_2015.shape[0],idx_2015.shape[0]))\n",
    "\n",
    "P1V_pair_2015 = full_pair_2015[full_pair_2015.type=='P1V']\n",
    "row = np.array([item_id_2015[item] for item in list(P1V_pair_2015['P'])])\n",
    "col = np.array([item_id_2015[item] for item in list(P1V_pair_2015['O'])])\n",
    "data = np.ones(row.shape[0])\n",
    "adj_P1V_2015 = sp.csr_matrix((data,(row,col)),shape=(idx_2015.shape[0],idx_2015.shape[0]))\n",
    "\n",
    "P1K_pair_2015 = full_pair_2015[full_pair_2015.type=='P1K']\n",
    "row = np.array([item_id_2015[item] for item in list(P1K_pair_2015['P'])])\n",
    "col = np.array([item_id_2015[item] for item in list(P1K_pair_2015['O'])])\n",
    "data = np.ones(row.shape[0])\n",
    "adj_P1K_2015 = sp.csr_matrix((data,(row,col)),shape=(idx_2015.shape[0],idx_2015.shape[0]))\n",
    "\n",
    "row = np.array(range(len(idx_2015)))\n",
    "col =  np.array(range(len(idx_2015)))\n",
    "data = np.ones(row.shape[0])\n",
    "adj_self_2015 = sp.csr_matrix((data,(row,col)),shape=(idx_2015.shape[0],idx_2015.shape[0]))\n",
    "\n",
    "graph = {'adj':[adj_P1P_2015,adj_P1A_2015,adj_P1V_2015,adj_P1K_2015,adj_self_2015],\n",
    "                 'feature':feature_2015,\n",
    "                 ' idx':idx_2015,\n",
    "                 'id_item':id_item_2015,\n",
    "                 'item_id':item_id_2015}\n",
    "with open('../data/graph_2015.pkl','wb') as f:\n",
    "    pkl.dump(graph,f,0)\n",
    "time.time()-t"
   ]
  },
  {
   "cell_type": "code",
   "execution_count": 22,
   "metadata": {},
   "outputs": [
    {
     "name": "stdout",
     "output_type": "stream",
     "text": [
      "5116871\n"
     ]
    },
    {
     "data": {
      "text/plain": [
       "187.88103413581848"
      ]
     },
     "execution_count": 22,
     "metadata": {},
     "output_type": "execute_result"
    }
   ],
   "source": [
    "t = time.time()\n",
    "P1Y_2016 = full_pair[(full_pair.O>=2000)&(full_pair.O<=2016)]\n",
    "all_paper_2016 = pd.DataFrame({\"P\":list(set(P1Y_2016['P']))})\n",
    "full_pair_2016 = pd.merge(all_paper_2016,full_pair,how=\"left\")\n",
    "full_pair_2016[full_pair_2016.type!='P1Y']\n",
    "idx_2016 = np.array(list(set(pd.concat([full_pair_2016['P'],full_pair_2016['O']]))))\n",
    "id_item_2016 = {i:j for i,j in enumerate(idx_2016)}\n",
    "item_id_2016 = {j:i for i,j in enumerate(idx_2016)}\n",
    "feature_2016 = create_feature(idx_2016)\n",
    "print (idx_2016.shape[0])\n",
    "\n",
    "P1P_pair_2016 = full_pair_2016[full_pair_2016.type=='P1P']\n",
    "row = np.array([item_id_2016[item] for item in list(P1P_pair_2016['P'])])\n",
    "col = np.array([item_id_2016[item] for item in list(P1P_pair_2016['O'])])\n",
    "data = np.ones(row.shape[0])\n",
    "adj_P1P_2016 = sp.csr_matrix((data,(row,col)),shape=(idx_2016.shape[0],idx_2016.shape[0]))\n",
    "\n",
    "P1A_pair_2016 = full_pair_2016[full_pair_2016.type=='P1A']\n",
    "row = np.array([item_id_2016[item] for item in list(P1A_pair_2016['P'])])\n",
    "col = np.array([item_id_2016[item] for item in list(P1A_pair_2016['O'])])\n",
    "data = np.ones(row.shape[0])\n",
    "adj_P1A_2016 = sp.csr_matrix((data,(row,col)),shape=(idx_2016.shape[0],idx_2016.shape[0]))\n",
    "\n",
    "P1V_pair_2016 = full_pair_2016[full_pair_2016.type=='P1V']\n",
    "row = np.array([item_id_2016[item] for item in list(P1V_pair_2016['P'])])\n",
    "col = np.array([item_id_2016[item] for item in list(P1V_pair_2016['O'])])\n",
    "data = np.ones(row.shape[0])\n",
    "adj_P1V_2016 = sp.csr_matrix((data,(row,col)),shape=(idx_2016.shape[0],idx_2016.shape[0]))\n",
    "\n",
    "P1K_pair_2016 = full_pair_2016[full_pair_2016.type=='P1K']\n",
    "row = np.array([item_id_2016[item] for item in list(P1K_pair_2016['P'])])\n",
    "col = np.array([item_id_2016[item] for item in list(P1K_pair_2016['O'])])\n",
    "data = np.ones(row.shape[0])\n",
    "adj_P1K_2016 = sp.csr_matrix((data,(row,col)),shape=(idx_2016.shape[0],idx_2016.shape[0]))\n",
    "\n",
    "row = np.array(range(len(idx_2016)))\n",
    "col =  np.array(range(len(idx_2016)))\n",
    "data = np.ones(row.shape[0])\n",
    "adj_self_2016 = sp.csr_matrix((data,(row,col)),shape=(idx_2016.shape[0],idx_2016.shape[0]))\n",
    "\n",
    "graph = {'adj':[adj_P1P_2016,adj_P1A_2016,adj_P1V_2016,adj_P1K_2016,adj_self_2016],\n",
    "                 'feature':feature_2016,\n",
    "                 ' idx':idx_2016,\n",
    "                 'id_item':id_item_2016,\n",
    "                 'item_id':item_id_2016}\n",
    "with open('../data/graph_2016.pkl','wb') as f:\n",
    "    pkl.dump(graph,f,0)\n",
    "time.time()-t"
   ]
  },
  {
   "cell_type": "code",
   "execution_count": 8,
   "metadata": {},
   "outputs": [
    {
     "name": "stdout",
     "output_type": "stream",
     "text": [
      "5545584\n"
     ]
    },
    {
     "data": {
      "text/plain": [
       "211.12858486175537"
      ]
     },
     "execution_count": 8,
     "metadata": {},
     "output_type": "execute_result"
    }
   ],
   "source": [
    "t = time.time()\n",
    "P1Y_2017 = full_pair[(full_pair.O>=2000)&(full_pair.O<=2017)]\n",
    "all_paper_2017 = pd.DataFrame({\"P\":list(set(P1Y_2017['P']))})\n",
    "full_pair_2017 = pd.merge(all_paper_2017,full_pair,how=\"left\")\n",
    "full_pair_2017[full_pair_2017.type!='P1Y']\n",
    "idx_2017 = np.array(list(set(pd.concat([full_pair_2017['P'],full_pair_2017['O']]))))\n",
    "id_item_2017 = {i:j for i,j in enumerate(idx_2017)}\n",
    "item_id_2017 = {j:i for i,j in enumerate(idx_2017)}\n",
    "feature_2017 = create_feature(idx_2017)\n",
    "print (idx_2017.shape[0])\n",
    "\n",
    "P1P_pair_2017 = full_pair_2017[full_pair_2017.type=='P1P']\n",
    "row = np.array([item_id_2017[item] for item in list(P1P_pair_2017['P'])])\n",
    "col = np.array([item_id_2017[item] for item in list(P1P_pair_2017['O'])])\n",
    "data = np.ones(row.shape[0])\n",
    "adj_P1P_2017 = sp.csr_matrix((data,(row,col)),shape=(idx_2017.shape[0],idx_2017.shape[0]))\n",
    "\n",
    "P1A_pair_2017 = full_pair_2017[full_pair_2017.type=='P1A']\n",
    "row = np.array([item_id_2017[item] for item in list(P1A_pair_2017['P'])])\n",
    "col = np.array([item_id_2017[item] for item in list(P1A_pair_2017['O'])])\n",
    "data = np.ones(row.shape[0])\n",
    "adj_P1A_2017 = sp.csr_matrix((data,(row,col)),shape=(idx_2017.shape[0],idx_2017.shape[0]))\n",
    "\n",
    "P1V_pair_2017 = full_pair_2017[full_pair_2017.type=='P1V']\n",
    "row = np.array([item_id_2017[item] for item in list(P1V_pair_2017['P'])])\n",
    "col = np.array([item_id_2017[item] for item in list(P1V_pair_2017['O'])])\n",
    "data = np.ones(row.shape[0])\n",
    "adj_P1V_2017 = sp.csr_matrix((data,(row,col)),shape=(idx_2017.shape[0],idx_2017.shape[0]))\n",
    "\n",
    "P1K_pair_2017 = full_pair_2017[full_pair_2017.type=='P1K']\n",
    "row = np.array([item_id_2017[item] for item in list(P1K_pair_2017['P'])])\n",
    "col = np.array([item_id_2017[item] for item in list(P1K_pair_2017['O'])])\n",
    "data = np.ones(row.shape[0])\n",
    "adj_P1K_2017 = sp.csr_matrix((data,(row,col)),shape=(idx_2017.shape[0],idx_2017.shape[0]))\n",
    "\n",
    "row = np.array(range(len(idx_2017)))\n",
    "col =  np.array(range(len(idx_2017)))\n",
    "data = np.ones(row.shape[0])\n",
    "adj_self_2017 = sp.csr_matrix((data,(row,col)),shape=(idx_2017.shape[0],idx_2017.shape[0]))\n",
    "\n",
    "graph = {'adj':[adj_P1P_2017,adj_P1A_2017,adj_P1V_2017,adj_P1K_2017,adj_self_2017],\n",
    "                 'feature':feature_2017,\n",
    "                 ' idx':idx_2017,\n",
    "                 'id_item':id_item_2017,\n",
    "                 'item_id':item_id_2017}\n",
    "with open('../data/graph_2017.pkl','wb') as f:\n",
    "    pkl.dump(graph,f,0)\n",
    "time.time()-t"
   ]
  },
  {
   "cell_type": "code",
   "execution_count": 8,
   "metadata": {},
   "outputs": [
    {
     "name": "stdout",
     "output_type": "stream",
     "text": [
      "5808172\n"
     ]
    },
    {
     "data": {
      "text/plain": [
       "208.7713005542755"
      ]
     },
     "execution_count": 8,
     "metadata": {},
     "output_type": "execute_result"
    }
   ],
   "source": [
    "t = time.time()\n",
    "P1Y_2018 = full_pair[(full_pair.O>=2000)&(full_pair.O<=2018)]\n",
    "all_paper_2018 = pd.DataFrame({\"P\":list(set(P1Y_2018['P']))})\n",
    "full_pair_2018 = pd.merge(all_paper_2018,full_pair,how=\"left\")\n",
    "full_pair_2018[full_pair_2018.type!='P1Y']\n",
    "idx_2018 = np.array(list(set(pd.concat([full_pair_2018['P'],full_pair_2018['O']]))))\n",
    "id_item_2018 = {i:j for i,j in enumerate(idx_2018)}\n",
    "item_id_2018 = {j:i for i,j in enumerate(idx_2018)}\n",
    "feature_2018 = create_feature(idx_2018)\n",
    "print (idx_2018.shape[0])\n",
    "\n",
    "P1P_pair_2018 = full_pair_2018[full_pair_2018.type=='P1P']\n",
    "row = np.array([item_id_2018[item] for item in list(P1P_pair_2018['P'])])\n",
    "col = np.array([item_id_2018[item] for item in list(P1P_pair_2018['O'])])\n",
    "data = np.ones(row.shape[0])\n",
    "adj_P1P_2018 = sp.csr_matrix((data,(row,col)),shape=(idx_2018.shape[0],idx_2018.shape[0]))\n",
    "\n",
    "P1A_pair_2018 = full_pair_2018[full_pair_2018.type=='P1A']\n",
    "row = np.array([item_id_2018[item] for item in list(P1A_pair_2018['P'])])\n",
    "col = np.array([item_id_2018[item] for item in list(P1A_pair_2018['O'])])\n",
    "data = np.ones(row.shape[0])\n",
    "adj_P1A_2018 = sp.csr_matrix((data,(row,col)),shape=(idx_2018.shape[0],idx_2018.shape[0]))\n",
    "\n",
    "P1V_pair_2018 = full_pair_2018[full_pair_2018.type=='P1V']\n",
    "row = np.array([item_id_2018[item] for item in list(P1V_pair_2018['P'])])\n",
    "col = np.array([item_id_2018[item] for item in list(P1V_pair_2018['O'])])\n",
    "data = np.ones(row.shape[0])\n",
    "adj_P1V_2018 = sp.csr_matrix((data,(row,col)),shape=(idx_2018.shape[0],idx_2018.shape[0]))\n",
    "\n",
    "P1K_pair_2018 = full_pair_2018[full_pair_2018.type=='P1K']\n",
    "row = np.array([item_id_2018[item] for item in list(P1K_pair_2018['P'])])\n",
    "col = np.array([item_id_2018[item] for item in list(P1K_pair_2018['O'])])\n",
    "data = np.ones(row.shape[0])\n",
    "adj_P1K_2018 = sp.csr_matrix((data,(row,col)),shape=(idx_2018.shape[0],idx_2018.shape[0]))\n",
    "\n",
    "row = np.array(range(len(idx_2018)))\n",
    "col =  np.array(range(len(idx_2018)))\n",
    "data = np.ones(row.shape[0])\n",
    "adj_self_2018 = sp.csr_matrix((data,(row,col)),shape=(idx_2018.shape[0],idx_2018.shape[0]))\n",
    "\n",
    "graph = {'adj':[adj_P1P_2018,adj_P1A_2018,adj_P1V_2018,adj_P1K_2018,adj_self_2018],\n",
    "                 'feature':feature_2018,\n",
    "                 ' idx':idx_2018,\n",
    "                 'id_item':id_item_2018,\n",
    "                 'item_id':item_id_2018}\n",
    "with open('../data/graph_2018.pkl','wb') as f:\n",
    "    pkl.dump(graph,f,0)\n",
    "time.time()-t"
   ]
  },
  {
   "cell_type": "code",
   "execution_count": 3,
   "metadata": {},
   "outputs": [],
   "source": [
    "with open('../data/graph_2018.pkl','rb') as f:\n",
    "    data = pkl.load(f)"
   ]
  },
  {
   "cell_type": "code",
   "execution_count": null,
   "metadata": {},
   "outputs": [],
   "source": []
  }
 ],
 "metadata": {
  "kernelspec": {
   "display_name": "Python 3",
   "language": "python",
   "name": "python3"
  },
  "language_info": {
   "codemirror_mode": {
    "name": "ipython",
    "version": 3
   },
   "file_extension": ".py",
   "mimetype": "text/x-python",
   "name": "python",
   "nbconvert_exporter": "python",
   "pygments_lexer": "ipython3",
   "version": "3.7.3"
  }
 },
 "nbformat": 4,
 "nbformat_minor": 2
}
