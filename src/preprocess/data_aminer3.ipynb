{
 "cells": [
  {
   "cell_type": "code",
   "execution_count": 1,
   "metadata": {},
   "outputs": [],
   "source": [
    "import json\n",
    "import time\n",
    "import sys\n",
    "import pandas as pd\n",
    "import numpy  as np\n",
    "import scipy.sparse as sp\n",
    "import pickle as pkl\n",
    "import collections \n",
    "import gc"
   ]
  },
  {
   "cell_type": "code",
   "execution_count": 2,
   "metadata": {},
   "outputs": [],
   "source": [
    "with open('../data/index_item_map.pkl', 'rb') as f:\n",
    "    data_map = pkl.load(f)"
   ]
  },
  {
   "cell_type": "code",
   "execution_count": 3,
   "metadata": {},
   "outputs": [],
   "source": [
    "paper_id_title = data_map['paper_id_title']\n",
    "author_id_name = data_map['author_id_name']\n",
    "venue_id_name = data_map['venue_id_name']\n",
    "keywords_id_name = data_map['keywords_id_name']\n",
    "paper_title_id = data_map['paper_title_id']\n",
    "author_name_id = data_map['author_name_id']\n",
    "venue_name_id = data_map['venue_name_id']\n",
    "keywords_name_id = data_map['keywords_name_id']\n",
    "keywords_set = data_map['keywords_set']\n",
    "venue_set = data_map['venue_set']"
   ]
  },
  {
   "cell_type": "code",
   "execution_count": 4,
   "metadata": {},
   "outputs": [],
   "source": [
    "with open ('../data/cumulative_labels.pkl','rb') as f:\n",
    "    cumulative_labels = pkl.load(f)"
   ]
  },
  {
   "cell_type": "code",
   "execution_count": 5,
   "metadata": {},
   "outputs": [],
   "source": [
    "full_pair = pd.read_csv('../data/whole_list.txt',names=['P','O','type'])"
   ]
  },
  {
   "cell_type": "code",
   "execution_count": 6,
   "metadata": {},
   "outputs": [],
   "source": [
    "def construct_index_from_one_df(df,item_id,flag):\n",
    "    if flag == 'P':\n",
    "        max_len = 100\n",
    "    elif flag == 'A':\n",
    "        max_len = 20\n",
    "    elif flag == 'V':\n",
    "        max_len = 1\n",
    "    elif flag == 'K':\n",
    "        max_len = 15\n",
    "    dic = collections.defaultdict(lambda : [])\n",
    "    keys = list(df['P'])\n",
    "    values = list(df['O'])\n",
    "    for i in  range(len(keys)):\n",
    "        try:\n",
    "            if len(dic[keys[i]])<max_len:\n",
    "                index_id = item_id[values[i]]\n",
    "                dic[keys[i]].append(index_id)\n",
    "            cnt = cnt + 1\n",
    "        except:\n",
    "            pass\n",
    "    for i in range(len(keys)):\n",
    "        need_len = max_len-len(dic[keys[i]])\n",
    "        for j in range(need_len):\n",
    "            dic[keys[i]].append(-1)\n",
    "    return dic\n"
   ]
  },
  {
   "cell_type": "code",
   "execution_count": 7,
   "metadata": {},
   "outputs": [],
   "source": [
    "def construct_index_5_years(df,item_list,flag):\n",
    "    dic_1 = construct_index_from_one_df(df,item_list[0],flag)\n",
    "    dic_2 = construct_index_from_one_df(df,item_list[1],flag)\n",
    "    dic_3 = construct_index_from_one_df(df,item_list[2],flag)\n",
    "    dic_4 = construct_index_from_one_df(df,item_list[3],flag)\n",
    "    dic_5 = construct_index_from_one_df(df,item_list[4],flag)\n",
    "    return [dic_1,dic_2,dic_3,dic_4,dic_5]"
   ]
  },
  {
   "cell_type": "code",
   "execution_count": 8,
   "metadata": {},
   "outputs": [],
   "source": [
    "def index_mapping_one(paper_lst,id_dic):\n",
    "    return [id_dic[paper] for paper in paper_lst]\n",
    "def index_mapping_five(paper_lst,id_dic_list):\n",
    "    return np.array([index_mapping_one(paper_lst,id_dic) for id_dic in id_dic_list])"
   ]
  },
  {
   "cell_type": "code",
   "execution_count": 9,
   "metadata": {},
   "outputs": [],
   "source": [
    "with open('../individual_data/graph_2000.pkl','rb') as f:\n",
    "    graph_2000 = pkl.load(f)\n",
    "item_id_2000 = graph_2000['item_id']\n",
    "with open('../individual_data/graph_2001.pkl','rb') as f:\n",
    "    graph_2001 = pkl.load(f)\n",
    "item_id_2001 = graph_2001['item_id']\n",
    "with open('../individual_data/graph_2002.pkl','rb') as f:\n",
    "    graph_2002 = pkl.load(f)\n",
    "item_id_2002 = graph_2002['item_id']\n",
    "with open('../individual_data/graph_2003.pkl','rb') as f:\n",
    "    graph_2003 = pkl.load(f)\n",
    "item_id_2003 = graph_2003['item_id']\n",
    "with open('../individual_data/graph_2004.pkl','rb') as f:\n",
    "    graph_2004 = pkl.load(f)\n",
    "item_id_2004 = graph_2004['item_id']"
   ]
  },
  {
   "cell_type": "code",
   "execution_count": 10,
   "metadata": {},
   "outputs": [
    {
     "name": "stdout",
     "output_type": "stream",
     "text": [
      "(5, 105600, 100)\n",
      "(5, 105600, 20)\n",
      "(5, 105600, 1)\n",
      "(5, 105600, 15)\n"
     ]
    },
    {
     "data": {
      "text/plain": [
       "42.06094455718994"
      ]
     },
     "execution_count": 10,
     "metadata": {},
     "output_type": "execute_result"
    }
   ],
   "source": [
    "t = time.time()\n",
    "P1Y_2005 = full_pair[full_pair.O==2005]\n",
    "all_paper_2005 = pd.DataFrame({\"P\":list(set(P1Y_2005['P']))})\n",
    "full_pair_2005 = pd.merge(all_paper_2005,full_pair,how=\"left\")\n",
    "full_pair_2005_P1P = full_pair_2005[full_pair_2005.type=='P1P']\n",
    "full_pair_2005_P1A = full_pair_2005[full_pair_2005.type=='P1A']\n",
    "full_pair_2005_P1V = full_pair_2005[full_pair_2005.type=='P1V']\n",
    "full_pair_2005_P1K = full_pair_2005[full_pair_2005.type=='P1K']\n",
    "graph_lookip_list = [item_id_2000,item_id_2001,item_id_2002,item_id_2003,item_id_2004]\n",
    "P2005_1_P1P_list = construct_index_5_years(full_pair_2005_P1P,graph_lookip_list,'P')\n",
    "P2005_1_P1A_list = construct_index_5_years(full_pair_2005_P1A,graph_lookip_list,'A')\n",
    "P2005_1_P1V_list = construct_index_5_years(full_pair_2005_P1V,graph_lookip_list,'V')\n",
    "P2005_1_P1K_list = construct_index_5_years(full_pair_2005_P1K,graph_lookip_list,'K')\n",
    "P2005_label_cumu = list(cumulative_labels['P2005_label']['P'])\n",
    "P2005_1_P1P_list = index_mapping_five(P2005_label_cumu,P2005_1_P1P_list)\n",
    "P2005_1_P1A_list = index_mapping_five(P2005_label_cumu,P2005_1_P1A_list)\n",
    "P2005_1_P1V_list = index_mapping_five(P2005_label_cumu,P2005_1_P1V_list)\n",
    "P2005_1_P1K_list = index_mapping_five(P2005_label_cumu,P2005_1_P1K_list)\n",
    "print ((P2005_1_P1P_list).shape)\n",
    "print ((P2005_1_P1A_list).shape)\n",
    "print ((P2005_1_P1V_list).shape)\n",
    "print ((P2005_1_P1K_list).shape)\n",
    "with open('../individual_data/index_2005.pkl','wb') as f:\n",
    "    pkl.dump([P2005_1_P1P_list,P2005_1_P1A_list,P2005_1_P1V_list,P2005_1_P1K_list],f,0)\n",
    "time.time()-t"
   ]
  },
  {
   "cell_type": "code",
   "execution_count": 11,
   "metadata": {},
   "outputs": [],
   "source": [
    "with open('../individual_data/graph_2005.pkl','rb') as f:\n",
    "    graph_2005 = pkl.load(f)\n",
    "item_id_2005 = graph_2005['item_id']"
   ]
  },
  {
   "cell_type": "code",
   "execution_count": 12,
   "metadata": {},
   "outputs": [
    {
     "name": "stdout",
     "output_type": "stream",
     "text": [
      "(5, 122190, 100)\n",
      "(5, 122190, 20)\n",
      "(5, 122190, 1)\n",
      "(5, 122190, 15)\n"
     ]
    },
    {
     "data": {
      "text/plain": [
       "48.8684561252594"
      ]
     },
     "execution_count": 12,
     "metadata": {},
     "output_type": "execute_result"
    }
   ],
   "source": [
    "t = time.time()\n",
    "P1Y_2006 = full_pair[full_pair.O==2006]\n",
    "all_paper_2006 = pd.DataFrame({\"P\":list(set(P1Y_2006['P']))})\n",
    "full_pair_2006 = pd.merge(all_paper_2006,full_pair,how=\"left\")\n",
    "full_pair_2006_P1P = full_pair_2006[full_pair_2006.type=='P1P']\n",
    "full_pair_2006_P1A = full_pair_2006[full_pair_2006.type=='P1A']\n",
    "full_pair_2006_P1V = full_pair_2006[full_pair_2006.type=='P1V']\n",
    "full_pair_2006_P1K = full_pair_2006[full_pair_2006.type=='P1K']\n",
    "graph_lookip_list = [item_id_2001,item_id_2002,item_id_2003,item_id_2004,item_id_2005]\n",
    "P2006_1_P1P_list = construct_index_5_years(full_pair_2006_P1P,graph_lookip_list,'P')\n",
    "P2006_1_P1A_list = construct_index_5_years(full_pair_2006_P1A,graph_lookip_list,'A')\n",
    "P2006_1_P1V_list = construct_index_5_years(full_pair_2006_P1V,graph_lookip_list,'V')\n",
    "P2006_1_P1K_list = construct_index_5_years(full_pair_2006_P1K,graph_lookip_list,'K')\n",
    "P2006_label_cumu = list(cumulative_labels['P2006_label']['P'])\n",
    "P2006_1_P1P_list = index_mapping_five(P2006_label_cumu,P2006_1_P1P_list)\n",
    "P2006_1_P1A_list = index_mapping_five(P2006_label_cumu,P2006_1_P1A_list)\n",
    "P2006_1_P1V_list = index_mapping_five(P2006_label_cumu,P2006_1_P1V_list)\n",
    "P2006_1_P1K_list = index_mapping_five(P2006_label_cumu,P2006_1_P1K_list)\n",
    "print ((P2006_1_P1P_list).shape)\n",
    "print ((P2006_1_P1A_list).shape)\n",
    "print ((P2006_1_P1V_list).shape)\n",
    "print ((P2006_1_P1K_list).shape)\n",
    "with open('../individual_data/index_2006.pkl','wb') as f:\n",
    "    pkl.dump([P2006_1_P1P_list,P2006_1_P1A_list,P2006_1_P1V_list,P2006_1_P1K_list],f,0)\n",
    "time.time()-t"
   ]
  },
  {
   "cell_type": "code",
   "execution_count": 13,
   "metadata": {},
   "outputs": [],
   "source": [
    "with open('../individual_data/graph_2006.pkl','rb') as f:\n",
    "    graph_2006 = pkl.load(f)\n",
    "item_id_2006 = graph_2006['item_id']"
   ]
  },
  {
   "cell_type": "code",
   "execution_count": 14,
   "metadata": {},
   "outputs": [
    {
     "name": "stdout",
     "output_type": "stream",
     "text": [
      "(5, 134863, 100)\n",
      "(5, 134863, 20)\n",
      "(5, 134863, 1)\n",
      "(5, 134863, 15)\n"
     ]
    },
    {
     "data": {
      "text/plain": [
       "55.13737082481384"
      ]
     },
     "execution_count": 14,
     "metadata": {},
     "output_type": "execute_result"
    }
   ],
   "source": [
    "t = time.time()\n",
    "P1Y_2007 = full_pair[full_pair.O==2007]\n",
    "all_paper_2007 = pd.DataFrame({\"P\":list(set(P1Y_2007['P']))})\n",
    "full_pair_2007 = pd.merge(all_paper_2007,full_pair,how=\"left\")\n",
    "full_pair_2007_P1P = full_pair_2007[full_pair_2007.type=='P1P']\n",
    "full_pair_2007_P1A = full_pair_2007[full_pair_2007.type=='P1A']\n",
    "full_pair_2007_P1V = full_pair_2007[full_pair_2007.type=='P1V']\n",
    "full_pair_2007_P1K = full_pair_2007[full_pair_2007.type=='P1K']\n",
    "graph_lookip_list = [item_id_2002,item_id_2003,item_id_2004,item_id_2005,item_id_2006]\n",
    "P2007_1_P1P_list = construct_index_5_years(full_pair_2007_P1P,graph_lookip_list,'P')\n",
    "P2007_1_P1A_list = construct_index_5_years(full_pair_2007_P1A,graph_lookip_list,'A')\n",
    "P2007_1_P1V_list = construct_index_5_years(full_pair_2007_P1V,graph_lookip_list,'V')\n",
    "P2007_1_P1K_list = construct_index_5_years(full_pair_2007_P1K,graph_lookip_list,'K')\n",
    "P2007_label_cumu = list(cumulative_labels['P2007_label']['P'])\n",
    "P2007_1_P1P_list = index_mapping_five(P2007_label_cumu,P2007_1_P1P_list)\n",
    "P2007_1_P1A_list = index_mapping_five(P2007_label_cumu,P2007_1_P1A_list)\n",
    "P2007_1_P1V_list = index_mapping_five(P2007_label_cumu,P2007_1_P1V_list)\n",
    "P2007_1_P1K_list = index_mapping_five(P2007_label_cumu,P2007_1_P1K_list)\n",
    "print ((P2007_1_P1P_list).shape)\n",
    "print ((P2007_1_P1A_list).shape)\n",
    "print ((P2007_1_P1V_list).shape)\n",
    "print ((P2007_1_P1K_list).shape)\n",
    "with open('../individual_data/index_2007.pkl','wb') as f:\n",
    "    pkl.dump([P2007_1_P1P_list,P2007_1_P1A_list,P2007_1_P1V_list,P2007_1_P1K_list],f,0)\n",
    "time.time()-t"
   ]
  },
  {
   "cell_type": "code",
   "execution_count": 15,
   "metadata": {},
   "outputs": [],
   "source": [
    "with open('../individual_data/graph_2007.pkl','rb') as f:\n",
    "    graph_2007 = pkl.load(f)\n",
    "item_id_2007 = graph_2007['item_id']"
   ]
  },
  {
   "cell_type": "code",
   "execution_count": 16,
   "metadata": {},
   "outputs": [
    {
     "name": "stdout",
     "output_type": "stream",
     "text": [
      "(5, 142965, 100)\n",
      "(5, 142965, 20)\n",
      "(5, 142965, 1)\n",
      "(5, 142965, 15)\n"
     ]
    },
    {
     "data": {
      "text/plain": [
       "58.42009711265564"
      ]
     },
     "execution_count": 16,
     "metadata": {},
     "output_type": "execute_result"
    }
   ],
   "source": [
    "t = time.time()\n",
    "P1Y_2008 = full_pair[full_pair.O==2008]\n",
    "all_paper_2008 = pd.DataFrame({\"P\":list(set(P1Y_2008['P']))})\n",
    "full_pair_2008 = pd.merge(all_paper_2008,full_pair,how=\"left\")\n",
    "full_pair_2008_P1P = full_pair_2008[full_pair_2008.type=='P1P']\n",
    "full_pair_2008_P1A = full_pair_2008[full_pair_2008.type=='P1A']\n",
    "full_pair_2008_P1V = full_pair_2008[full_pair_2008.type=='P1V']\n",
    "full_pair_2008_P1K = full_pair_2008[full_pair_2008.type=='P1K']\n",
    "graph_lookip_list = [item_id_2003,item_id_2004,item_id_2005,item_id_2006,item_id_2007]\n",
    "P2008_1_P1P_list = construct_index_5_years(full_pair_2008_P1P,graph_lookip_list,'P')\n",
    "P2008_1_P1A_list = construct_index_5_years(full_pair_2008_P1A,graph_lookip_list,'A')\n",
    "P2008_1_P1V_list = construct_index_5_years(full_pair_2008_P1V,graph_lookip_list,'V')\n",
    "P2008_1_P1K_list = construct_index_5_years(full_pair_2008_P1K,graph_lookip_list,'K')\n",
    "P2008_label_cumu = list(cumulative_labels['P2008_label']['P'])\n",
    "P2008_1_P1P_list = index_mapping_five(P2008_label_cumu,P2008_1_P1P_list)\n",
    "P2008_1_P1A_list = index_mapping_five(P2008_label_cumu,P2008_1_P1A_list)\n",
    "P2008_1_P1V_list = index_mapping_five(P2008_label_cumu,P2008_1_P1V_list)\n",
    "P2008_1_P1K_list = index_mapping_five(P2008_label_cumu,P2008_1_P1K_list)\n",
    "print ((P2008_1_P1P_list).shape)\n",
    "print ((P2008_1_P1A_list).shape)\n",
    "print ((P2008_1_P1V_list).shape)\n",
    "print ((P2008_1_P1K_list).shape)\n",
    "with open('../individual_data/index_2008.pkl','wb') as f:\n",
    "    pkl.dump([P2008_1_P1P_list,P2008_1_P1A_list,P2008_1_P1V_list,P2008_1_P1K_list],f,0)\n",
    "time.time()-t"
   ]
  },
  {
   "cell_type": "code",
   "execution_count": 17,
   "metadata": {},
   "outputs": [],
   "source": [
    "with open('../individual_data/graph_2008.pkl','rb') as f:\n",
    "    graph_2008 = pkl.load(f)\n",
    "item_id_2008 = graph_2008['item_id']"
   ]
  },
  {
   "cell_type": "code",
   "execution_count": 18,
   "metadata": {},
   "outputs": [
    {
     "name": "stdout",
     "output_type": "stream",
     "text": [
      "(5, 158773, 100)\n",
      "(5, 158773, 20)\n",
      "(5, 158773, 1)\n",
      "(5, 158773, 15)\n"
     ]
    },
    {
     "data": {
      "text/plain": [
       "65.55812406539917"
      ]
     },
     "execution_count": 18,
     "metadata": {},
     "output_type": "execute_result"
    }
   ],
   "source": [
    "t = time.time()\n",
    "P1Y_2009 = full_pair[full_pair.O==2009]\n",
    "all_paper_2009 = pd.DataFrame({\"P\":list(set(P1Y_2009['P']))})\n",
    "full_pair_2009 = pd.merge(all_paper_2009,full_pair,how=\"left\")\n",
    "full_pair_2009_P1P = full_pair_2009[full_pair_2009.type=='P1P']\n",
    "full_pair_2009_P1A = full_pair_2009[full_pair_2009.type=='P1A']\n",
    "full_pair_2009_P1V = full_pair_2009[full_pair_2009.type=='P1V']\n",
    "full_pair_2009_P1K = full_pair_2009[full_pair_2009.type=='P1K']\n",
    "graph_lookip_list = [item_id_2004,item_id_2005,item_id_2006,item_id_2007,item_id_2008]\n",
    "P2009_1_P1P_list = construct_index_5_years(full_pair_2009_P1P,graph_lookip_list,'P')\n",
    "P2009_1_P1A_list = construct_index_5_years(full_pair_2009_P1A,graph_lookip_list,'A')\n",
    "P2009_1_P1V_list = construct_index_5_years(full_pair_2009_P1V,graph_lookip_list,'V')\n",
    "P2009_1_P1K_list = construct_index_5_years(full_pair_2009_P1K,graph_lookip_list,'K')\n",
    "P2009_label_cumu = list(cumulative_labels['P2009_label']['P'])\n",
    "P2009_1_P1P_list = index_mapping_five(P2009_label_cumu,P2009_1_P1P_list)\n",
    "P2009_1_P1A_list = index_mapping_five(P2009_label_cumu,P2009_1_P1A_list)\n",
    "P2009_1_P1V_list = index_mapping_five(P2009_label_cumu,P2009_1_P1V_list)\n",
    "P2009_1_P1K_list = index_mapping_five(P2009_label_cumu,P2009_1_P1K_list)\n",
    "print ((P2009_1_P1P_list).shape)\n",
    "print ((P2009_1_P1A_list).shape)\n",
    "print ((P2009_1_P1V_list).shape)\n",
    "print ((P2009_1_P1K_list).shape)\n",
    "with open('../individual_data/index_2009.pkl','wb') as f:\n",
    "    pkl.dump([P2009_1_P1P_list,P2009_1_P1A_list,P2009_1_P1V_list,P2009_1_P1K_list],f,0)\n",
    "time.time()-t"
   ]
  },
  {
   "cell_type": "code",
   "execution_count": 19,
   "metadata": {},
   "outputs": [],
   "source": [
    "with open('../individual_data/graph_2009.pkl','rb') as f:\n",
    "    graph_2009 = pkl.load(f)\n",
    "item_id_2009 = graph_2009['item_id']"
   ]
  },
  {
   "cell_type": "code",
   "execution_count": 20,
   "metadata": {},
   "outputs": [
    {
     "name": "stdout",
     "output_type": "stream",
     "text": [
      "(5, 164824, 100)\n",
      "(5, 164824, 20)\n",
      "(5, 164824, 1)\n",
      "(5, 164824, 15)\n"
     ]
    },
    {
     "data": {
      "text/plain": [
       "68.50755572319031"
      ]
     },
     "execution_count": 20,
     "metadata": {},
     "output_type": "execute_result"
    }
   ],
   "source": [
    "t = time.time()\n",
    "P1Y_2010 = full_pair[full_pair.O==2010]\n",
    "all_paper_2010 = pd.DataFrame({\"P\":list(set(P1Y_2010['P']))})\n",
    "full_pair_2010 = pd.merge(all_paper_2010,full_pair,how=\"left\")\n",
    "full_pair_2010_P1P = full_pair_2010[full_pair_2010.type=='P1P']\n",
    "full_pair_2010_P1A = full_pair_2010[full_pair_2010.type=='P1A']\n",
    "full_pair_2010_P1V = full_pair_2010[full_pair_2010.type=='P1V']\n",
    "full_pair_2010_P1K = full_pair_2010[full_pair_2010.type=='P1K']\n",
    "graph_lookip_list = [item_id_2005,item_id_2006,item_id_2007,item_id_2008,item_id_2009]\n",
    "P2010_1_P1P_list = construct_index_5_years(full_pair_2010_P1P,graph_lookip_list,'P')\n",
    "P2010_1_P1A_list = construct_index_5_years(full_pair_2010_P1A,graph_lookip_list,'A')\n",
    "P2010_1_P1V_list = construct_index_5_years(full_pair_2010_P1V,graph_lookip_list,'V')\n",
    "P2010_1_P1K_list = construct_index_5_years(full_pair_2010_P1K,graph_lookip_list,'K')\n",
    "P2010_label_cumu = list(cumulative_labels['P2010_label']['P'])\n",
    "P2010_1_P1P_list = index_mapping_five(P2010_label_cumu,P2010_1_P1P_list)\n",
    "P2010_1_P1A_list = index_mapping_five(P2010_label_cumu,P2010_1_P1A_list)\n",
    "P2010_1_P1V_list = index_mapping_five(P2010_label_cumu,P2010_1_P1V_list)\n",
    "P2010_1_P1K_list = index_mapping_five(P2010_label_cumu,P2010_1_P1K_list)\n",
    "print ((P2010_1_P1P_list).shape)\n",
    "print ((P2010_1_P1A_list).shape)\n",
    "print ((P2010_1_P1V_list).shape)\n",
    "print ((P2010_1_P1K_list).shape)\n",
    "with open('../individual_data/index_2010.pkl','wb') as f:\n",
    "    pkl.dump([P2010_1_P1P_list,P2010_1_P1A_list,P2010_1_P1V_list,P2010_1_P1K_list],f,0)\n",
    "time.time()-t"
   ]
  },
  {
   "cell_type": "code",
   "execution_count": 13,
   "metadata": {},
   "outputs": [],
   "source": [
    "with open('../individual_data/graph_2010.pkl','rb') as f:\n",
    "    graph_2010 = pkl.load(f)\n",
    "item_id_2010 = graph_2010['item_id']"
   ]
  },
  {
   "cell_type": "code",
   "execution_count": 14,
   "metadata": {},
   "outputs": [
    {
     "name": "stdout",
     "output_type": "stream",
     "text": [
      "(5, 177692, 100)\n",
      "(5, 177692, 20)\n",
      "(5, 177692, 1)\n",
      "(5, 177692, 15)\n"
     ]
    },
    {
     "data": {
      "text/plain": [
       "76.28882098197937"
      ]
     },
     "execution_count": 14,
     "metadata": {},
     "output_type": "execute_result"
    }
   ],
   "source": [
    "t = time.time()\n",
    "P1Y_2011 = full_pair[full_pair.O==2011]\n",
    "all_paper_2011 = pd.DataFrame({\"P\":list(set(P1Y_2011['P']))})\n",
    "full_pair_2011 = pd.merge(all_paper_2011,full_pair,how=\"left\")\n",
    "full_pair_2011_P1P = full_pair_2011[full_pair_2011.type=='P1P']\n",
    "full_pair_2011_P1A = full_pair_2011[full_pair_2011.type=='P1A']\n",
    "full_pair_2011_P1V = full_pair_2011[full_pair_2011.type=='P1V']\n",
    "full_pair_2011_P1K = full_pair_2011[full_pair_2011.type=='P1K']\n",
    "graph_lookip_list = [item_id_2006,item_id_2007,item_id_2008,item_id_2009,item_id_2010]\n",
    "P2011_1_P1P_list = construct_index_5_years(full_pair_2011_P1P,graph_lookip_list,'P')\n",
    "P2011_1_P1A_list = construct_index_5_years(full_pair_2011_P1A,graph_lookip_list,'A')\n",
    "P2011_1_P1V_list = construct_index_5_years(full_pair_2011_P1V,graph_lookip_list,'V')\n",
    "P2011_1_P1K_list = construct_index_5_years(full_pair_2011_P1K,graph_lookip_list,'K')\n",
    "P2011_label_cumu = list(cumulative_labels['P2011_label']['P'])\n",
    "P2011_1_P1P_list = index_mapping_five(P2011_label_cumu,P2011_1_P1P_list)\n",
    "P2011_1_P1A_list = index_mapping_five(P2011_label_cumu,P2011_1_P1A_list)\n",
    "P2011_1_P1V_list = index_mapping_five(P2011_label_cumu,P2011_1_P1V_list)\n",
    "P2011_1_P1K_list = index_mapping_five(P2011_label_cumu,P2011_1_P1K_list)\n",
    "print ((P2011_1_P1P_list).shape)\n",
    "print ((P2011_1_P1A_list).shape)\n",
    "print ((P2011_1_P1V_list).shape)\n",
    "print ((P2011_1_P1K_list).shape)\n",
    "with open('../individual_data/index_2011.pkl','wb') as f:\n",
    "    pkl.dump([P2011_1_P1P_list,P2011_1_P1A_list,P2011_1_P1V_list,P2011_1_P1K_list],f,0)\n",
    "time.time()-t"
   ]
  },
  {
   "cell_type": "code",
   "execution_count": 15,
   "metadata": {},
   "outputs": [],
   "source": [
    "with open('../data/graph_2011.pkl','rb') as f:\n",
    "    graph_2011 = pkl.load(f)\n",
    "item_id_2011 = graph_2011['item_id']"
   ]
  },
  {
   "cell_type": "code",
   "execution_count": 16,
   "metadata": {},
   "outputs": [
    {
     "name": "stdout",
     "output_type": "stream",
     "text": [
      "(5, 187915, 100)\n",
      "(5, 187915, 20)\n",
      "(5, 187915, 1)\n",
      "(5, 187915, 15)\n"
     ]
    },
    {
     "data": {
      "text/plain": [
       "79.54049229621887"
      ]
     },
     "execution_count": 16,
     "metadata": {},
     "output_type": "execute_result"
    }
   ],
   "source": [
    "t = time.time()\n",
    "P1Y_2012 = full_pair[full_pair.O==2012]\n",
    "all_paper_2012 = pd.DataFrame({\"P\":list(set(P1Y_2012['P']))})\n",
    "full_pair_2012 = pd.merge(all_paper_2012,full_pair,how=\"left\")\n",
    "full_pair_2012_P1P = full_pair_2012[full_pair_2012.type=='P1P']\n",
    "full_pair_2012_P1A = full_pair_2012[full_pair_2012.type=='P1A']\n",
    "full_pair_2012_P1V = full_pair_2012[full_pair_2012.type=='P1V']\n",
    "full_pair_2012_P1K = full_pair_2012[full_pair_2012.type=='P1K']\n",
    "graph_lookip_list = [item_id_2007,item_id_2008,item_id_2009,item_id_2010,item_id_2011]\n",
    "P2012_1_P1P_list = construct_index_5_years(full_pair_2012_P1P,graph_lookip_list,'P')\n",
    "P2012_1_P1A_list = construct_index_5_years(full_pair_2012_P1A,graph_lookip_list,'A')\n",
    "P2012_1_P1V_list = construct_index_5_years(full_pair_2012_P1V,graph_lookip_list,'V')\n",
    "P2012_1_P1K_list = construct_index_5_years(full_pair_2012_P1K,graph_lookip_list,'K')\n",
    "P2012_label_cumu = list(cumulative_labels['P2012_label']['P'])\n",
    "P2012_1_P1P_list = index_mapping_five(P2012_label_cumu,P2012_1_P1P_list)\n",
    "P2012_1_P1A_list = index_mapping_five(P2012_label_cumu,P2012_1_P1A_list)\n",
    "P2012_1_P1V_list = index_mapping_five(P2012_label_cumu,P2012_1_P1V_list)\n",
    "P2012_1_P1K_list = index_mapping_five(P2012_label_cumu,P2012_1_P1K_list)\n",
    "print ((P2012_1_P1P_list).shape)\n",
    "print ((P2012_1_P1A_list).shape)\n",
    "print ((P2012_1_P1V_list).shape)\n",
    "print ((P2012_1_P1K_list).shape)\n",
    "with open('../data/index_2012.pkl','wb') as f:\n",
    "    pkl.dump([P2012_1_P1P_list,P2012_1_P1A_list,P2012_1_P1V_list,P2012_1_P1K_list],f,0)\n",
    "time.time()-t"
   ]
  },
  {
   "cell_type": "code",
   "execution_count": 17,
   "metadata": {},
   "outputs": [],
   "source": [
    "with open('../data/graph_2012.pkl','rb') as f:\n",
    "    graph_2012 = pkl.load(f)\n",
    "item_id_2012 = graph_2012['item_id']"
   ]
  },
  {
   "cell_type": "code",
   "execution_count": 18,
   "metadata": {},
   "outputs": [
    {
     "name": "stdout",
     "output_type": "stream",
     "text": [
      "(5, 197778, 100)\n",
      "(5, 197778, 20)\n",
      "(5, 197778, 1)\n",
      "(5, 197778, 15)\n"
     ]
    },
    {
     "data": {
      "text/plain": [
       "84.14398670196533"
      ]
     },
     "execution_count": 18,
     "metadata": {},
     "output_type": "execute_result"
    }
   ],
   "source": [
    "t = time.time()\n",
    "P1Y_2013 = full_pair[full_pair.O==2013]\n",
    "all_paper_2013 = pd.DataFrame({\"P\":list(set(P1Y_2013['P']))})\n",
    "full_pair_2013 = pd.merge(all_paper_2013,full_pair,how=\"left\")\n",
    "full_pair_2013_P1P = full_pair_2013[full_pair_2013.type=='P1P']\n",
    "full_pair_2013_P1A = full_pair_2013[full_pair_2013.type=='P1A']\n",
    "full_pair_2013_P1V = full_pair_2013[full_pair_2013.type=='P1V']\n",
    "full_pair_2013_P1K = full_pair_2013[full_pair_2013.type=='P1K']\n",
    "graph_lookip_list = [item_id_2008,item_id_2009,item_id_2010,item_id_2011,item_id_2012]\n",
    "P2013_1_P1P_list = construct_index_5_years(full_pair_2013_P1P,graph_lookip_list,'P')\n",
    "P2013_1_P1A_list = construct_index_5_years(full_pair_2013_P1A,graph_lookip_list,'A')\n",
    "P2013_1_P1V_list = construct_index_5_years(full_pair_2013_P1V,graph_lookip_list,'V')\n",
    "P2013_1_P1K_list = construct_index_5_years(full_pair_2013_P1K,graph_lookip_list,'K')\n",
    "P2013_label_cumu = list(cumulative_labels['P2013_label']['P'])\n",
    "P2013_1_P1P_list = index_mapping_five(P2013_label_cumu,P2013_1_P1P_list)\n",
    "P2013_1_P1A_list = index_mapping_five(P2013_label_cumu,P2013_1_P1A_list)\n",
    "P2013_1_P1V_list = index_mapping_five(P2013_label_cumu,P2013_1_P1V_list)\n",
    "P2013_1_P1K_list = index_mapping_five(P2013_label_cumu,P2013_1_P1K_list)\n",
    "print ((P2013_1_P1P_list).shape)\n",
    "print ((P2013_1_P1A_list).shape)\n",
    "print ((P2013_1_P1V_list).shape)\n",
    "print ((P2013_1_P1K_list).shape)\n",
    "with open('../data/index_2013.pkl','wb') as f:\n",
    "    pkl.dump([P2013_1_P1P_list,P2013_1_P1A_list,P2013_1_P1V_list,P2013_1_P1K_list],f,0)\n",
    "time.time()-t"
   ]
  },
  {
   "cell_type": "code",
   "execution_count": null,
   "metadata": {},
   "outputs": [],
   "source": []
  }
 ],
 "metadata": {
  "kernelspec": {
   "display_name": "Python 3",
   "language": "python",
   "name": "python3"
  },
  "language_info": {
   "codemirror_mode": {
    "name": "ipython",
    "version": 3
   },
   "file_extension": ".py",
   "mimetype": "text/x-python",
   "name": "python",
   "nbconvert_exporter": "python",
   "pygments_lexer": "ipython3",
   "version": "3.7.3"
  }
 },
 "nbformat": 4,
 "nbformat_minor": 2
}
