{
 "cells": [
  {
   "cell_type": "code",
   "execution_count": 1,
   "metadata": {},
   "outputs": [],
   "source": [
    "import json\n",
    "import time\n",
    "import sys\n",
    "import pandas as pd\n",
    "import numpy  as np\n",
    "import scipy.sparse as sp\n",
    "import pickle as pkl\n",
    "import collections \n",
    "import gc"
   ]
  },
  {
   "cell_type": "code",
   "execution_count": 2,
   "metadata": {},
   "outputs": [],
   "source": [
    "with open('../aps/index_item_map.pkl', 'rb') as f:\n",
    "    data_map = pkl.load(f)"
   ]
  },
  {
   "cell_type": "code",
   "execution_count": 3,
   "metadata": {},
   "outputs": [],
   "source": [
    "paper_id_title = data_map['paper_id_title']\n",
    "author_id_name = data_map['author_id_name']\n",
    "venue_id_name = data_map['venue_id_name']\n",
    "keywords_id_name = data_map['keywords_id_name']\n",
    "paper_title_id = data_map['paper_title_id']\n",
    "author_name_id = data_map['author_name_id']\n",
    "venue_name_id = data_map['venue_name_id']\n",
    "keywords_name_id = data_map['keywords_name_id']\n",
    "keywords_set = data_map['keywords_set']\n",
    "venue_set = data_map['venue_set']"
   ]
  },
  {
   "cell_type": "code",
   "execution_count": 4,
   "metadata": {},
   "outputs": [],
   "source": [
    "full_pair = pd.read_csv('../aps/whole_graph.csv')"
   ]
  },
  {
   "cell_type": "code",
   "execution_count": 5,
   "metadata": {},
   "outputs": [],
   "source": [
    "def construct_index_from_one_df(df,item_id,flag):\n",
    "    if flag == 'P':\n",
    "        max_len = 100\n",
    "    elif flag == 'A':\n",
    "        max_len = 20\n",
    "    elif flag == 'V':\n",
    "        max_len = 1\n",
    "    elif flag == 'K':\n",
    "        max_len = 15\n",
    "    dic = collections.defaultdict(lambda : [])\n",
    "    keys = list(df['P'])\n",
    "    values = list(df['O'])\n",
    "    for i in  range(len(keys)):\n",
    "        try:\n",
    "            if len(dic[keys[i]])<max_len:\n",
    "                index_id = item_id[values[i]]\n",
    "                dic[keys[i]].append(index_id)\n",
    "            cnt = cnt + 1\n",
    "        except:\n",
    "            pass\n",
    "    for i in range(len(keys)):\n",
    "        need_len = max_len-len(dic[keys[i]])\n",
    "        for j in range(need_len):\n",
    "            dic[keys[i]].append(-1)\n",
    "    return dic\n"
   ]
  },
  {
   "cell_type": "code",
   "execution_count": 6,
   "metadata": {},
   "outputs": [],
   "source": [
    "def construct_index_5_years(df,item_list,flag):\n",
    "    dic_1 = construct_index_from_one_df(df,item_list[0],flag)\n",
    "    dic_2 = construct_index_from_one_df(df,item_list[1],flag)\n",
    "    dic_3 = construct_index_from_one_df(df,item_list[2],flag)\n",
    "    dic_4 = construct_index_from_one_df(df,item_list[3],flag)\n",
    "    dic_5 = construct_index_from_one_df(df,item_list[4],flag)\n",
    "    return [dic_1,dic_2,dic_3,dic_4,dic_5]"
   ]
  },
  {
   "cell_type": "code",
   "execution_count": 7,
   "metadata": {},
   "outputs": [],
   "source": [
    "def index_mapping_one(paper_lst,id_dic,num):\n",
    "    xx = []\n",
    "    yy = list(np.zeros(num))\n",
    "    for paper in paper_lst:\n",
    "        if len(id_dic[paper]) ==0:\n",
    "            xx.append(yy)\n",
    "        else:\n",
    "            xx.append(id_dic[paper])\n",
    "    return xx\n",
    "#     return [id_dic[paper] for paper in paper_lst]\n",
    "def index_mapping_five(paper_lst,id_dic_list,num):\n",
    "    return np.array([index_mapping_one(paper_lst,id_dic,num) for id_dic in id_dic_list])"
   ]
  },
  {
   "cell_type": "code",
   "execution_count": 8,
   "metadata": {},
   "outputs": [],
   "source": [
    "with open('../aps/individual_graph_1995.pkl','rb') as f:\n",
    "    graph_1995 = pkl.load(f)\n",
    "item_id_1995 = graph_1995['item_id']\n",
    "with open('../aps/individual_graph_1996.pkl','rb') as f:\n",
    "    graph_1996 = pkl.load(f)\n",
    "item_id_1996 = graph_1996['item_id']\n",
    "with open('../aps/individual_graph_1997.pkl','rb') as f:\n",
    "    graph_1997 = pkl.load(f)\n",
    "item_id_1997 = graph_1997['item_id']\n",
    "with open('../aps/individual_graph_1998.pkl','rb') as f:\n",
    "    graph_1998 = pkl.load(f)\n",
    "item_id_1998 = graph_1998['item_id']\n",
    "with open('../aps/individual_graph_1999.pkl','rb') as f:\n",
    "    graph_1999 = pkl.load(f)\n",
    "item_id_1999 = graph_1999['item_id']\n",
    "with open('../aps/individual_graph_2000.pkl','rb') as f:\n",
    "    graph_2000 = pkl.load(f)\n",
    "item_id_2000 = graph_2000['item_id']\n",
    "with open('../aps/individual_graph_2001.pkl','rb') as f:\n",
    "    graph_2001 = pkl.load(f)\n",
    "item_id_2001 = graph_2001['item_id']\n",
    "with open('../aps/individual_graph_2002.pkl','rb') as f:\n",
    "    graph_2002 = pkl.load(f)\n",
    "item_id_2002 = graph_2002['item_id']\n",
    "with open('../aps/individual_graph_2003.pkl','rb') as f:\n",
    "    graph_2003 = pkl.load(f)\n",
    "item_id_2003 = graph_2003['item_id']\n",
    "with open('../aps/individual_graph_2004.pkl','rb') as f:\n",
    "    graph_2004 = pkl.load(f)\n",
    "item_id_2004 = graph_2004['item_id']"
   ]
  },
  {
   "cell_type": "code",
   "execution_count": 9,
   "metadata": {},
   "outputs": [
    {
     "name": "stdout",
     "output_type": "stream",
     "text": [
      "(5, 14643, 100)\n",
      "(5, 14643, 20)\n",
      "(5, 14643, 1)\n",
      "(5, 14643, 15)\n"
     ]
    },
    {
     "data": {
      "text/plain": [
       "4.996817111968994"
      ]
     },
     "execution_count": 9,
     "metadata": {},
     "output_type": "execute_result"
    }
   ],
   "source": [
    "year  = 2000\n",
    "t = time.time()\n",
    "P1Y_2005 = full_pair[full_pair.O==year]\n",
    "all_paper_2005 = pd.DataFrame({\"P\":list(set(P1Y_2005['P']))})\n",
    "full_pair_2005 = pd.merge(all_paper_2005,full_pair,how=\"left\")\n",
    "full_pair_2005_P1P = full_pair_2005[full_pair_2005.type=='P1P']\n",
    "full_pair_2005_P1A = full_pair_2005[full_pair_2005.type=='P1A']\n",
    "full_pair_2005_P1V = full_pair_2005[full_pair_2005.type=='P1V']\n",
    "full_pair_2005_P1K = full_pair_2005[full_pair_2005.type=='P1K']\n",
    "graph_lookip_list = [item_id_1995,item_id_1996,item_id_1997,item_id_1998,item_id_1999]\n",
    "P2005_1_P1P_list = construct_index_5_years(full_pair_2005_P1P,graph_lookip_list,'P')\n",
    "P2005_1_P1A_list = construct_index_5_years(full_pair_2005_P1A,graph_lookip_list,'A')\n",
    "P2005_1_P1V_list = construct_index_5_years(full_pair_2005_P1V,graph_lookip_list,'V')\n",
    "P2005_1_P1K_list = construct_index_5_years(full_pair_2005_P1K,graph_lookip_list,'K')\n",
    "\n",
    "cumulative_labels = pd.read_csv('../aps/log_labels'+str(year)+'.txt')\n",
    "P2005_label_cumu = list(cumulative_labels['P'])\n",
    "P2005_1_P1P_list = index_mapping_five(P2005_label_cumu,P2005_1_P1P_list,100)\n",
    "P2005_1_P1A_list = index_mapping_five(P2005_label_cumu,P2005_1_P1A_list,20)\n",
    "P2005_1_P1V_list = index_mapping_five(P2005_label_cumu,P2005_1_P1V_list,1)\n",
    "P2005_1_P1K_list = index_mapping_five(P2005_label_cumu,P2005_1_P1K_list,15)\n",
    "print ((P2005_1_P1P_list).shape)\n",
    "print ((P2005_1_P1A_list).shape)\n",
    "print ((P2005_1_P1V_list).shape)\n",
    "print ((P2005_1_P1K_list).shape)\n",
    "with open('../aps/index_'+str(year)+'.pkl','wb') as f:\n",
    "    pkl.dump([P2005_1_P1P_list,P2005_1_P1A_list,P2005_1_P1V_list,P2005_1_P1K_list],f,0)\n",
    "time.time()-t"
   ]
  },
  {
   "cell_type": "code",
   "execution_count": 10,
   "metadata": {},
   "outputs": [
    {
     "data": {
      "text/plain": [
       "array([102870, 102870, 102870, ..., 102877, 102877, 102877])"
      ]
     },
     "execution_count": 10,
     "metadata": {},
     "output_type": "execute_result"
    }
   ],
   "source": [
    "P2005_1_P1V_list[-1].reshape(-1)"
   ]
  },
  {
   "cell_type": "code",
   "execution_count": 11,
   "metadata": {},
   "outputs": [
    {
     "name": "stdout",
     "output_type": "stream",
     "text": [
      "(5, 14936, 100)\n",
      "(5, 14936, 20)\n",
      "(5, 14936, 1)\n",
      "(5, 14936, 15)\n"
     ]
    },
    {
     "data": {
      "text/plain": [
       "4.463131427764893"
      ]
     },
     "execution_count": 11,
     "metadata": {},
     "output_type": "execute_result"
    }
   ],
   "source": [
    "year  = 2001\n",
    "t = time.time()\n",
    "P1Y_2005 = full_pair[full_pair.O==year]\n",
    "all_paper_2005 = pd.DataFrame({\"P\":list(set(P1Y_2005['P']))})\n",
    "full_pair_2005 = pd.merge(all_paper_2005,full_pair,how=\"left\")\n",
    "full_pair_2005_P1P = full_pair_2005[full_pair_2005.type=='P1P']\n",
    "full_pair_2005_P1A = full_pair_2005[full_pair_2005.type=='P1A']\n",
    "full_pair_2005_P1V = full_pair_2005[full_pair_2005.type=='P1V']\n",
    "full_pair_2005_P1K = full_pair_2005[full_pair_2005.type=='P1K']\n",
    "graph_lookip_list = [item_id_1996,item_id_1997,item_id_1998,item_id_1999,item_id_2000]\n",
    "P2005_1_P1P_list = construct_index_5_years(full_pair_2005_P1P,graph_lookip_list,'P')\n",
    "P2005_1_P1A_list = construct_index_5_years(full_pair_2005_P1A,graph_lookip_list,'A')\n",
    "P2005_1_P1V_list = construct_index_5_years(full_pair_2005_P1V,graph_lookip_list,'V')\n",
    "P2005_1_P1K_list = construct_index_5_years(full_pair_2005_P1K,graph_lookip_list,'K')\n",
    "\n",
    "cumulative_labels = pd.read_csv('../aps/log_labels'+str(year)+'.txt')\n",
    "P2005_label_cumu = list(cumulative_labels['P'])\n",
    "P2005_1_P1P_list = index_mapping_five(P2005_label_cumu,P2005_1_P1P_list,100)\n",
    "P2005_1_P1A_list = index_mapping_five(P2005_label_cumu,P2005_1_P1A_list,20)\n",
    "P2005_1_P1V_list = index_mapping_five(P2005_label_cumu,P2005_1_P1V_list,1)\n",
    "P2005_1_P1K_list = index_mapping_five(P2005_label_cumu,P2005_1_P1K_list,15)\n",
    "print ((P2005_1_P1P_list).shape)\n",
    "print ((P2005_1_P1A_list).shape)\n",
    "print ((P2005_1_P1V_list).shape)\n",
    "print ((P2005_1_P1K_list).shape)\n",
    "with open('../aps/index_'+str(year)+'.pkl','wb') as f:\n",
    "    pkl.dump([P2005_1_P1P_list,P2005_1_P1A_list,P2005_1_P1V_list,P2005_1_P1K_list],f,0)\n",
    "time.time()-t"
   ]
  },
  {
   "cell_type": "code",
   "execution_count": 12,
   "metadata": {},
   "outputs": [
    {
     "name": "stdout",
     "output_type": "stream",
     "text": [
      "(5, 17953, 100)\n",
      "(5, 17953, 20)\n",
      "(5, 17953, 1)\n",
      "(5, 17953, 15)\n"
     ]
    },
    {
     "data": {
      "text/plain": [
       "5.442184686660767"
      ]
     },
     "execution_count": 12,
     "metadata": {},
     "output_type": "execute_result"
    }
   ],
   "source": [
    "year  = 2005\n",
    "t = time.time()\n",
    "P1Y_2005 = full_pair[full_pair.O==year]\n",
    "all_paper_2005 = pd.DataFrame({\"P\":list(set(P1Y_2005['P']))})\n",
    "full_pair_2005 = pd.merge(all_paper_2005,full_pair,how=\"left\")\n",
    "full_pair_2005_P1P = full_pair_2005[full_pair_2005.type=='P1P']\n",
    "full_pair_2005_P1A = full_pair_2005[full_pair_2005.type=='P1A']\n",
    "full_pair_2005_P1V = full_pair_2005[full_pair_2005.type=='P1V']\n",
    "full_pair_2005_P1K = full_pair_2005[full_pair_2005.type=='P1K']\n",
    "graph_lookip_list = [item_id_2000,item_id_2001,item_id_2002,item_id_2003,item_id_2004]\n",
    "P2005_1_P1P_list = construct_index_5_years(full_pair_2005_P1P,graph_lookip_list,'P')\n",
    "P2005_1_P1A_list = construct_index_5_years(full_pair_2005_P1A,graph_lookip_list,'A')\n",
    "P2005_1_P1V_list = construct_index_5_years(full_pair_2005_P1V,graph_lookip_list,'V')\n",
    "P2005_1_P1K_list = construct_index_5_years(full_pair_2005_P1K,graph_lookip_list,'K')\n",
    "\n",
    "cumulative_labels = pd.read_csv('../aps/log_labels'+str(year)+'.txt')\n",
    "P2005_label_cumu = list(cumulative_labels['P'])\n",
    "P2005_1_P1P_list = index_mapping_five(P2005_label_cumu,P2005_1_P1P_list,100)\n",
    "P2005_1_P1A_list = index_mapping_five(P2005_label_cumu,P2005_1_P1A_list,20)\n",
    "P2005_1_P1V_list = index_mapping_five(P2005_label_cumu,P2005_1_P1V_list,1)\n",
    "P2005_1_P1K_list = index_mapping_five(P2005_label_cumu,P2005_1_P1K_list,15)\n",
    "print ((P2005_1_P1P_list).shape)\n",
    "print ((P2005_1_P1A_list).shape)\n",
    "print ((P2005_1_P1V_list).shape)\n",
    "print ((P2005_1_P1K_list).shape)\n",
    "with open('../aps/index_'+str(year)+'.pkl','wb') as f:\n",
    "    pkl.dump([P2005_1_P1P_list,P2005_1_P1A_list,P2005_1_P1V_list,P2005_1_P1K_list],f,0)\n",
    "time.time()-t"
   ]
  },
  {
   "cell_type": "code",
   "execution_count": null,
   "metadata": {},
   "outputs": [],
   "source": []
  }
 ],
 "metadata": {
  "kernelspec": {
   "display_name": "Python 3",
   "language": "python",
   "name": "python3"
  },
  "language_info": {
   "codemirror_mode": {
    "name": "ipython",
    "version": 3
   },
   "file_extension": ".py",
   "mimetype": "text/x-python",
   "name": "python",
   "nbconvert_exporter": "python",
   "pygments_lexer": "ipython3",
   "version": "3.7.3"
  }
 },
 "nbformat": 4,
 "nbformat_minor": 2
}
